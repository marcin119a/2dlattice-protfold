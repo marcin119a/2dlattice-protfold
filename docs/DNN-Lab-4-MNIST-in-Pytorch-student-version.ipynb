{
  "cells": [
    {
      "cell_type": "markdown",
      "metadata": {
        "id": "MxW4dJFDfX_a"
      },
      "source": [
        "<center><img src='https://drive.google.com/uc?id=1_utx_ZGclmCwNttSe40kYA6VHzNocdET' height=\"60\"></center>\n",
        "\n",
        "AI TECH - Akademia Innowacyjnych Zastosowań Technologii Cyfrowych. Program Operacyjny Polska Cyfrowa na lata 2014-2020\n",
        "<hr>\n",
        "\n",
        "<center><img src='https://drive.google.com/uc?id=1BXZ0u3562N_MqCLcekI-Ens77Kk4LpPm'></center>\n",
        "\n",
        "<center>\n",
        "Projekt współfinansowany ze środków Unii Europejskiej w ramach Europejskiego Funduszu Rozwoju Regionalnego\n",
        "Program Operacyjny Polska Cyfrowa na lata 2014-2020,\n",
        "Oś Priorytetowa nr 3 \"Cyfrowe kompetencje społeczeństwa\" Działanie  nr 3.2 \"Innowacyjne rozwiązania na rzecz aktywizacji cyfrowej\"\n",
        "Tytuł projektu:  „Akademia Innowacyjnych Zastosowań Technologii Cyfrowych (AI Tech)”\n",
        "    </center>"
      ]
    },
    {
      "cell_type": "markdown",
      "metadata": {
        "id": "gcTwzhX8fBqs"
      },
      "source": [
        "Code based on https://github.com/pytorch/examples/blob/master/mnist/main.py\n",
        "\n",
        "In this exercise, we are using high-level abstractions from torch.nn like nn.Linear.\n",
        "Note: during the next lab session we will go one level deeper and implement more things\n",
        "with bare hands.\n",
        "\n",
        "Tasks:\n",
        "\n",
        " 1. Read the code.\n",
        "\n",
        " 2. Check that the given implementation reaches 95% test accuracy for architecture input-128-128-10 after few epochs.\n",
        "\n",
        " 3. Add the option to use SGD with momentum instead of ADAM.\n",
        "\n",
        " 4. Experiment with different learning rates. Use the provided TrainingVisualizer\n",
        " to plot the learning curves and gradient-to-weight ratios. Compare visualizations\n",
        " for different learning rates for both ADAM and SGD with momentum.\n",
        "\n",
        " 5. Parameterize the constructor by a list of sizes of hidden layers of the MLP.\n",
        " Note that this requires creating a list of layers as an attribute of the Net class,\n",
        " and one can't use a standard Python list containing nn.Modules (why?).\n",
        " Check torch.nn.ModuleList.\n",
        "\n",
        "If you run this notebook locally then you may need to install some packages.\n",
        "It may be achieved by adding the following code cell to the notebook and running it:\n",
        "```\n",
        "!pip install torch torchvision plotly ipywidgets\n",
        "```\n",
        "This notebook can also utilize Colab GPU. However, remember to kill your GPU session after classes as otherwise, you may use all your free GPU time for this week."
      ]
    },
    {
      "cell_type": "code",
      "execution_count": 1,
      "metadata": {
        "id": "IYAsziKffBFV"
      },
      "outputs": [],
      "source": [
        "import torch\n",
        "import torch.nn as nn\n",
        "import torch.nn.functional as F\n",
        "import torch.optim as optim\n",
        "from torchvision import datasets, transforms\n",
        "import plotly.graph_objects as go\n",
        "import sys\n",
        "\n",
        "if \"google.colab\" in sys.modules:\n",
        "    from google.colab import output\n",
        "\n",
        "    output.enable_custom_widget_manager()"
      ]
    },
    {
      "cell_type": "code",
      "execution_count": 2,
      "metadata": {
        "cellView": "form",
        "collapsed": true,
        "id": "ThUOOE4c8lAz"
      },
      "outputs": [],
      "source": [
        "# @title Visualize gradients\n",
        "\n",
        "\n",
        "class TrainingVisualizer:\n",
        "    def __init__(self, log_interval: int = 10):\n",
        "        self.log_interval = log_interval\n",
        "        self.train_loss_fig = self.init_line_plot(\n",
        "            title=\"Training loss\", xaxis_title=\"Step\"\n",
        "        )\n",
        "        self.grad_to_weight_fig = self.init_line_plot(\n",
        "            title=\"Gradient standard deviation to weight standard deviation ratio at 1st layer\",\n",
        "            xaxis_title=\"Step\",\n",
        "            yaxis_title=\"Gradient to weight ratio (log scale)\",\n",
        "            yaxis_type=\"log\",\n",
        "        )\n",
        "        self.test_acc_fig = self.init_line_plot(\n",
        "            title=\"Test accuracy\", x=[], xaxis_title=\"Epoch\", mode=\"lines+markers\"\n",
        "        )\n",
        "\n",
        "        # Parameters related to current tracked model and its training\n",
        "        self.first_linear_layer = None\n",
        "        self.lr = None\n",
        "        self.trace_idx = -1\n",
        "\n",
        "    def init_line_plot(\n",
        "        self,\n",
        "        title: str,\n",
        "        x=None,\n",
        "        xaxis_title: str = None,\n",
        "        yaxis_title: str = None,\n",
        "        yaxis_type: str = \"linear\",\n",
        "        mode: str = \"lines\",\n",
        "    ):\n",
        "        fig = go.Figure()\n",
        "        fig.update_layout(\n",
        "            title=title,\n",
        "            title_x=0.5,\n",
        "            xaxis_title=xaxis_title,\n",
        "            yaxis_title=yaxis_title,\n",
        "            height=400,\n",
        "            width=1500,\n",
        "            margin=dict(b=10, t=60),\n",
        "        )\n",
        "        fig.update_yaxes(type=yaxis_type)\n",
        "        # We cannot add new traces dynamically because Colab has a problem with widgets\n",
        "        # from plotly (traces added dynamically are rendered twice).\n",
        "        # As an ugly workaround we create a lot of empty traces and update them later\n",
        "        # with actual data. Empty traces are not plotted.\n",
        "        for _ in range(25):\n",
        "            fig.add_trace(go.Scatter(x=x, y=[], showlegend=True, mode=mode))\n",
        "\n",
        "        fig_widget = go.FigureWidget(fig)\n",
        "        display(fig_widget)\n",
        "        return fig_widget\n",
        "\n",
        "    def track_model(\n",
        "        self, model: torch.nn.Module, optimizer: torch.optim.Optimizer, lr: float\n",
        "    ):\n",
        "        \"\"\"\n",
        "        Start tracking training metrics for a new model.\n",
        "        \"\"\"\n",
        "\n",
        "        for field in model.__dict__[\"_modules\"].values():\n",
        "            if isinstance(field, nn.Linear):\n",
        "                self.first_linear_layer = field\n",
        "                break\n",
        "            elif isinstance(field, nn.ModuleList):\n",
        "                self.first_linear_layer = field[0]\n",
        "                break\n",
        "\n",
        "        self.lr = lr\n",
        "        self.trace_idx += 1\n",
        "\n",
        "        optim_name = type(optimizer).__name__\n",
        "        self.train_loss_fig.data[self.trace_idx].name = f\"{optim_name}, {lr}\"\n",
        "        self.grad_to_weight_fig.data[self.trace_idx].name = f\"{optim_name}, {lr}\"\n",
        "        self.test_acc_fig.data[self.trace_idx].name = f\"{optim_name}, {lr}\"\n",
        "\n",
        "    def plot_gradients_and_loss(self, batch_idx: int, loss: float):\n",
        "        if batch_idx % self.log_interval == 0:\n",
        "            self.train_loss_fig.data[self.trace_idx].y += (loss,)\n",
        "\n",
        "            layer = self.first_linear_layer\n",
        "            grad_to_weight_ratio = (\n",
        "                self.lr * layer.weight.grad.std() / layer.weight.std()\n",
        "            ).item()\n",
        "\n",
        "            self.grad_to_weight_fig.data[self.trace_idx].y += (grad_to_weight_ratio,)\n",
        "\n",
        "    def plot_accuracy(self, epoch: int, accuracy: float):\n",
        "        self.test_acc_fig.data[self.trace_idx].x += (epoch,)\n",
        "        self.test_acc_fig.data[self.trace_idx].y += (accuracy,)"
      ]
    },
    {
      "cell_type": "code",
      "execution_count": 10,
      "metadata": {
        "id": "DMtap4QCfBH8"
      },
      "outputs": [],
      "source": [
        "class Net(nn.Module):\n",
        "    def __init__(self, layers=[784, 128, 128, 10]):\n",
        "        super(Net, self).__init__()\n",
        "        # After flattening an image of size 28x28 we have 784 inputs\n",
        "        self.layers = nn.ModuleList([nn.Linear(a, b) for a, b in zip(layers[:-1], layers[1:])])\n",
        "\n",
        "\n",
        "    def forward(self, x: torch.Tensor):\n",
        "        x = torch.flatten(x, 1)\n",
        "        for l in self.layers[:-1]:\n",
        "            x = l(x)\n",
        "            x = F.relu(x)\n",
        "        x = self.layers[-1](x)\n",
        "\n",
        "        output = F.log_softmax(x, dim=1)\n",
        "        return output\n",
        "\n",
        "\n",
        "def train(\n",
        "    model: torch.nn.Module,\n",
        "    device: torch.device,\n",
        "    train_loader: torch.utils.data.DataLoader,\n",
        "    optimizer: torch.optim.Optimizer,\n",
        "    epoch: int,\n",
        "    log_interval: int,\n",
        "    visualizer: TrainingVisualizer,\n",
        "    verbose: bool = False,\n",
        "):\n",
        "    model.train()\n",
        "    assert model.training\n",
        "    for batch_idx, (data, target) in enumerate(train_loader):\n",
        "        data, target = data.to(device), target.to(device)\n",
        "        # Let p be a parameter of our .\n",
        "\n",
        "        optimizer.zero_grad()\n",
        "        output = model(data)\n",
        "        loss = F.nll_loss(output, target)\n",
        "        loss.backward()\n",
        "        visualizer.plot_gradients_and_loss(batch_idx, loss.item())\n",
        "        optimizer.step()\n",
        "        if batch_idx % log_interval == 0:\n",
        "            if verbose:\n",
        "                print(\n",
        "                    \"Train Epoch: {} [{}/{} ({:.0f}%)]\\tLoss: {:.6f}\".format(\n",
        "                        epoch,\n",
        "                        batch_idx * len(data),\n",
        "                        len(train_loader.dataset),\n",
        "                        100.0 * batch_idx / len(train_loader),\n",
        "                        loss.item(),\n",
        "                    )\n",
        "                )\n",
        "\n",
        "\n",
        "def test(\n",
        "    model: torch.nn.Module,\n",
        "    device: torch.device,\n",
        "    test_loader: torch.utils.data.DataLoader,\n",
        "    epoch: int,\n",
        "    visualizer: TrainingVisualizer,\n",
        "    verbose: bool = False,\n",
        "):\n",
        "    model.eval()\n",
        "    assert not model.training\n",
        "    test_loss = 0\n",
        "    correct = 0\n",
        "    with torch.no_grad():\n",
        "        for data, target in test_loader:\n",
        "            data, target = data.to(device), target.to(device)\n",
        "            output = model(data)\n",
        "\n",
        "            test_loss += F.nll_loss(\n",
        "                output, target, reduction=\"sum\"\n",
        "            ).item()  # this sum up batch loss, however usually we prefer a mean reduction\n",
        "            pred = output.argmax(\n",
        "                dim=1, keepdim=True\n",
        "            )  # get the index of the max log-probability\n",
        "            correct += pred.eq(target.view_as(pred)).sum().item()\n",
        "\n",
        "    test_loss /= len(test_loader.dataset)\n",
        "\n",
        "    if verbose:\n",
        "        print(\n",
        "            \"\\nTest set: Average loss: {:.4f}, Accuracy: {}/{} ({:.0f}%)\\n\".format(\n",
        "                test_loss,\n",
        "                correct,\n",
        "                len(test_loader.dataset),\n",
        "                100.0 * correct / len(test_loader.dataset),\n",
        "            )\n",
        "        )\n",
        "    visualizer.plot_accuracy(epoch, 100.0 * correct / len(test_loader.dataset))"
      ]
    },
    {
      "cell_type": "code",
      "execution_count": 11,
      "metadata": {
        "id": "K5GlMs1-fBKP"
      },
      "outputs": [],
      "source": [
        "# training uses more memory than test due to gradient computation\n",
        "# therefore we can set test_batch_size to be larger\n",
        "batch_size = 256\n",
        "test_batch_size = 1000\n",
        "epochs = 5\n",
        "lr = 1e-2\n",
        "seed = 1\n",
        "log_interval = 10\n",
        "# to check whether a cuda device is available\n",
        "use_cuda = torch.cuda.is_available()"
      ]
    },
    {
      "cell_type": "code",
      "execution_count": 12,
      "metadata": {
        "id": "WgfUP23AfBMd"
      },
      "outputs": [],
      "source": [
        "# for reproductibility\n",
        "torch.manual_seed(seed)\n",
        "# if we have cuda capable device (ex, nvidia GPU) then we use it\n",
        "# otherwise we use cpu, there are also other devices like mps,\n",
        "# but their support for operations may be limited\n",
        "device = torch.device(\"cuda\" if use_cuda else \"cpu\")\n",
        "\n",
        "train_kwargs = {\"batch_size\": batch_size}\n",
        "test_kwargs = {\"batch_size\": test_batch_size}\n",
        "if use_cuda:\n",
        "    cuda_kwargs = {\"num_workers\": 1, \"pin_memory\": True, \"shuffle\": True}\n",
        "    train_kwargs.update(cuda_kwargs)\n",
        "    test_kwargs.update(cuda_kwargs)"
      ]
    },
    {
      "cell_type": "code",
      "execution_count": 13,
      "metadata": {
        "id": "o0KPoUtsfBOs"
      },
      "outputs": [],
      "source": [
        "# data loader preparation\n",
        "transform = transforms.Compose(\n",
        "    [transforms.ToTensor(), transforms.Normalize((0.1307,), (0.3081,))]\n",
        ")\n",
        "dataset1 = datasets.MNIST(\"../data\", train=True, download=True, transform=transform)\n",
        "dataset2 = datasets.MNIST(\"../data\", train=False, transform=transform)\n",
        "train_loader = torch.utils.data.DataLoader(dataset1, **train_kwargs)\n",
        "test_loader = torch.utils.data.DataLoader(dataset2, **test_kwargs)"
      ]
    },
    {
      "cell_type": "code",
      "execution_count": 14,
      "metadata": {
        "id": "5NtsESKX8XrT",
        "outputId": "64e16a08-3381-4289-d8f1-69b8220b88c1",
        "colab": {
          "base_uri": "https://localhost:8080/",
          "height": 1000,
          "referenced_widgets": [
            "531fe9a204fd45868b3ee83758647d5d",
            "80f97f8333ad41cd8e6c1fcf2cfeb69e",
            "f410f65ca6de43c699ab43d6feebe25a"
          ]
        }
      },
      "outputs": [
        {
          "output_type": "display_data",
          "data": {
            "application/vnd.jupyter.widget-view+json": {
              "version_major": 2,
              "version_minor": 0,
              "model_id": "531fe9a204fd45868b3ee83758647d5d"
            },
            "text/plain": [
              "FigureWidget({\n",
              "    'data': [{'mode': 'lines',\n",
              "              'showlegend': True,\n",
              "              'type': 'scatter',\n",
              "              'uid': 'e2e76adf-59d7-41ba-9aa2-4c58742f58df',\n",
              "              'y': []},\n",
              "             {'mode': 'lines',\n",
              "              'showlegend': True,\n",
              "              'type': 'scatter',\n",
              "              'uid': '5c87e2a1-49ec-459c-ae4b-7f2987a1686d',\n",
              "              'y': []},\n",
              "             {'mode': 'lines',\n",
              "              'showlegend': True,\n",
              "              'type': 'scatter',\n",
              "              'uid': '18411089-963e-4b18-82c8-56df902f4f89',\n",
              "              'y': []},\n",
              "             {'mode': 'lines',\n",
              "              'showlegend': True,\n",
              "              'type': 'scatter',\n",
              "              'uid': 'a29b392a-73a5-4016-8975-2c2ec4573c47',\n",
              "              'y': []},\n",
              "             {'mode': 'lines',\n",
              "              'showlegend': True,\n",
              "              'type': 'scatter',\n",
              "              'uid': 'f05feff4-f2bd-4e9f-b3d0-624c086117e4',\n",
              "              'y': []},\n",
              "             {'mode': 'lines',\n",
              "              'showlegend': True,\n",
              "              'type': 'scatter',\n",
              "              'uid': 'ffd5089d-8807-4eeb-8e4d-edd683d8b1d8',\n",
              "              'y': []},\n",
              "             {'mode': 'lines',\n",
              "              'showlegend': True,\n",
              "              'type': 'scatter',\n",
              "              'uid': '62316c01-821e-441d-95af-d73ae2d06693',\n",
              "              'y': []},\n",
              "             {'mode': 'lines',\n",
              "              'showlegend': True,\n",
              "              'type': 'scatter',\n",
              "              'uid': '3bbdc4d5-aec4-4194-b9e1-008203740fa7',\n",
              "              'y': []},\n",
              "             {'mode': 'lines',\n",
              "              'showlegend': True,\n",
              "              'type': 'scatter',\n",
              "              'uid': 'b5f63bb5-4c39-481d-a59c-58d90cb40eff',\n",
              "              'y': []},\n",
              "             {'mode': 'lines',\n",
              "              'showlegend': True,\n",
              "              'type': 'scatter',\n",
              "              'uid': 'a65f9ad6-a8c0-4bdc-83f0-8febf6fc7730',\n",
              "              'y': []},\n",
              "             {'mode': 'lines',\n",
              "              'showlegend': True,\n",
              "              'type': 'scatter',\n",
              "              'uid': '2e7ab47c-9f87-4c56-bbe6-5e6c9e92a30f',\n",
              "              'y': []},\n",
              "             {'mode': 'lines',\n",
              "              'showlegend': True,\n",
              "              'type': 'scatter',\n",
              "              'uid': '6d32d1d7-bcd9-46e8-9c72-6f4468dfb32d',\n",
              "              'y': []},\n",
              "             {'mode': 'lines',\n",
              "              'showlegend': True,\n",
              "              'type': 'scatter',\n",
              "              'uid': '2122b3ec-4884-41c2-91c4-7ee78a2e08c5',\n",
              "              'y': []},\n",
              "             {'mode': 'lines',\n",
              "              'showlegend': True,\n",
              "              'type': 'scatter',\n",
              "              'uid': '6ea41bc8-f204-446b-929e-e0132359807f',\n",
              "              'y': []},\n",
              "             {'mode': 'lines',\n",
              "              'showlegend': True,\n",
              "              'type': 'scatter',\n",
              "              'uid': '5f3c13cb-4693-48a1-8e8b-d7f1a6650a79',\n",
              "              'y': []},\n",
              "             {'mode': 'lines',\n",
              "              'showlegend': True,\n",
              "              'type': 'scatter',\n",
              "              'uid': 'c902ce09-930d-4a0a-96c3-cf427f376148',\n",
              "              'y': []},\n",
              "             {'mode': 'lines',\n",
              "              'showlegend': True,\n",
              "              'type': 'scatter',\n",
              "              'uid': '558ea230-e344-4a5e-a540-248fe03445c2',\n",
              "              'y': []},\n",
              "             {'mode': 'lines',\n",
              "              'showlegend': True,\n",
              "              'type': 'scatter',\n",
              "              'uid': '39d6884b-6e12-4061-9fe5-c9328a0c88c4',\n",
              "              'y': []},\n",
              "             {'mode': 'lines',\n",
              "              'showlegend': True,\n",
              "              'type': 'scatter',\n",
              "              'uid': '6f02556f-1301-4c85-9616-27bda12b11eb',\n",
              "              'y': []},\n",
              "             {'mode': 'lines',\n",
              "              'showlegend': True,\n",
              "              'type': 'scatter',\n",
              "              'uid': 'bf929335-c955-41c8-ab30-0b8782f84d99',\n",
              "              'y': []},\n",
              "             {'mode': 'lines',\n",
              "              'showlegend': True,\n",
              "              'type': 'scatter',\n",
              "              'uid': 'd9d80f13-5679-4bb8-b8fc-727a1d73c4a0',\n",
              "              'y': []},\n",
              "             {'mode': 'lines',\n",
              "              'showlegend': True,\n",
              "              'type': 'scatter',\n",
              "              'uid': '33562237-cfb1-4d28-b21f-8e0305fa482d',\n",
              "              'y': []},\n",
              "             {'mode': 'lines',\n",
              "              'showlegend': True,\n",
              "              'type': 'scatter',\n",
              "              'uid': '8356f427-463f-4fc6-b2c3-9588a01af373',\n",
              "              'y': []},\n",
              "             {'mode': 'lines',\n",
              "              'showlegend': True,\n",
              "              'type': 'scatter',\n",
              "              'uid': '5da2c0a2-92d6-4664-b6b8-b4f0a7c0905a',\n",
              "              'y': []},\n",
              "             {'mode': 'lines',\n",
              "              'showlegend': True,\n",
              "              'type': 'scatter',\n",
              "              'uid': '06f14742-27d6-46f8-9623-9cd3e87dc31f',\n",
              "              'y': []}],\n",
              "    'layout': {'height': 400,\n",
              "               'margin': {'b': 10, 't': 60},\n",
              "               'template': '...',\n",
              "               'title': {'text': 'Training loss', 'x': 0.5},\n",
              "               'width': 1500,\n",
              "               'xaxis': {'title': {'text': 'Step'}},\n",
              "               'yaxis': {'type': 'linear'}}\n",
              "})"
            ]
          },
          "metadata": {
            "application/vnd.jupyter.widget-view+json": {
              "colab": {
                "custom_widget_manager": {
                  "url": "https://ssl.gstatic.com/colaboratory-static/widgets/colab-cdn-widget-manager/2b70e893a8ba7c0f/manager.min.js"
                }
              }
            }
          }
        },
        {
          "output_type": "display_data",
          "data": {
            "application/vnd.jupyter.widget-view+json": {
              "version_major": 2,
              "version_minor": 0,
              "model_id": "80f97f8333ad41cd8e6c1fcf2cfeb69e"
            },
            "text/plain": [
              "FigureWidget({\n",
              "    'data': [{'mode': 'lines',\n",
              "              'showlegend': True,\n",
              "              'type': 'scatter',\n",
              "              'uid': '8bcd737d-6bb7-4ce7-9c85-15da643f4cdf',\n",
              "              'y': []},\n",
              "             {'mode': 'lines',\n",
              "              'showlegend': True,\n",
              "              'type': 'scatter',\n",
              "              'uid': 'ef0122b0-df41-48a6-b59c-df1501750140',\n",
              "              'y': []},\n",
              "             {'mode': 'lines',\n",
              "              'showlegend': True,\n",
              "              'type': 'scatter',\n",
              "              'uid': 'e9512d69-b8a6-4872-b1fa-ff5848b62b01',\n",
              "              'y': []},\n",
              "             {'mode': 'lines',\n",
              "              'showlegend': True,\n",
              "              'type': 'scatter',\n",
              "              'uid': '66b07985-4613-4a80-9d71-d98407744099',\n",
              "              'y': []},\n",
              "             {'mode': 'lines',\n",
              "              'showlegend': True,\n",
              "              'type': 'scatter',\n",
              "              'uid': '31dbdd3f-51a5-41eb-aaba-1a6e8856e2b5',\n",
              "              'y': []},\n",
              "             {'mode': 'lines',\n",
              "              'showlegend': True,\n",
              "              'type': 'scatter',\n",
              "              'uid': '78e9fe31-3fd1-4997-adb4-dabae68592a1',\n",
              "              'y': []},\n",
              "             {'mode': 'lines',\n",
              "              'showlegend': True,\n",
              "              'type': 'scatter',\n",
              "              'uid': 'd0dab666-0ad7-49a8-a713-8566e329a507',\n",
              "              'y': []},\n",
              "             {'mode': 'lines',\n",
              "              'showlegend': True,\n",
              "              'type': 'scatter',\n",
              "              'uid': '3a555581-949a-4e34-accf-9d114c3e9aa0',\n",
              "              'y': []},\n",
              "             {'mode': 'lines',\n",
              "              'showlegend': True,\n",
              "              'type': 'scatter',\n",
              "              'uid': '991da703-176f-42fa-b181-0d278b2edb73',\n",
              "              'y': []},\n",
              "             {'mode': 'lines',\n",
              "              'showlegend': True,\n",
              "              'type': 'scatter',\n",
              "              'uid': '8a699e0f-4069-4fa5-9c65-588967e59cf6',\n",
              "              'y': []},\n",
              "             {'mode': 'lines',\n",
              "              'showlegend': True,\n",
              "              'type': 'scatter',\n",
              "              'uid': 'eb00dff0-7866-4691-b106-253d04c78236',\n",
              "              'y': []},\n",
              "             {'mode': 'lines',\n",
              "              'showlegend': True,\n",
              "              'type': 'scatter',\n",
              "              'uid': '38ec795c-09ea-45fb-980c-bb8ebb05474f',\n",
              "              'y': []},\n",
              "             {'mode': 'lines',\n",
              "              'showlegend': True,\n",
              "              'type': 'scatter',\n",
              "              'uid': 'c5482c47-4cbc-4146-b5af-98621ee7d988',\n",
              "              'y': []},\n",
              "             {'mode': 'lines',\n",
              "              'showlegend': True,\n",
              "              'type': 'scatter',\n",
              "              'uid': 'f182fed5-31e9-4074-ad22-dd371309fbdd',\n",
              "              'y': []},\n",
              "             {'mode': 'lines',\n",
              "              'showlegend': True,\n",
              "              'type': 'scatter',\n",
              "              'uid': '468434cb-792c-46a1-8a1f-ffa2ceb16b12',\n",
              "              'y': []},\n",
              "             {'mode': 'lines',\n",
              "              'showlegend': True,\n",
              "              'type': 'scatter',\n",
              "              'uid': 'e0f0cf2f-935d-4448-ac76-e6887ed0faef',\n",
              "              'y': []},\n",
              "             {'mode': 'lines',\n",
              "              'showlegend': True,\n",
              "              'type': 'scatter',\n",
              "              'uid': '20b50ecb-3bc1-4b09-b25f-ae7e4f5d0ad8',\n",
              "              'y': []},\n",
              "             {'mode': 'lines',\n",
              "              'showlegend': True,\n",
              "              'type': 'scatter',\n",
              "              'uid': 'd4723d4c-f658-44cc-8145-e2e03d498617',\n",
              "              'y': []},\n",
              "             {'mode': 'lines',\n",
              "              'showlegend': True,\n",
              "              'type': 'scatter',\n",
              "              'uid': 'ed34d61d-a632-4740-b26e-6ebcecd74ed0',\n",
              "              'y': []},\n",
              "             {'mode': 'lines',\n",
              "              'showlegend': True,\n",
              "              'type': 'scatter',\n",
              "              'uid': '50c2d955-6ea1-48b3-9578-67d98a5de438',\n",
              "              'y': []},\n",
              "             {'mode': 'lines',\n",
              "              'showlegend': True,\n",
              "              'type': 'scatter',\n",
              "              'uid': 'c203c484-4bb3-4f5e-a1b7-d012773f93bd',\n",
              "              'y': []},\n",
              "             {'mode': 'lines',\n",
              "              'showlegend': True,\n",
              "              'type': 'scatter',\n",
              "              'uid': '69bf3d9b-c7fb-4cb4-a242-3904a2e37d7c',\n",
              "              'y': []},\n",
              "             {'mode': 'lines',\n",
              "              'showlegend': True,\n",
              "              'type': 'scatter',\n",
              "              'uid': '597c087c-1800-4cbd-85f5-ca0bb1485a4c',\n",
              "              'y': []},\n",
              "             {'mode': 'lines',\n",
              "              'showlegend': True,\n",
              "              'type': 'scatter',\n",
              "              'uid': '8c2802fe-b253-4fce-9f04-fc68eb6ec9b6',\n",
              "              'y': []},\n",
              "             {'mode': 'lines',\n",
              "              'showlegend': True,\n",
              "              'type': 'scatter',\n",
              "              'uid': '3e72bf25-03ef-482f-b1f9-6523bf8978ef',\n",
              "              'y': []}],\n",
              "    'layout': {'height': 400,\n",
              "               'margin': {'b': 10, 't': 60},\n",
              "               'template': '...',\n",
              "               'title': {'text': 'Gradient standard deviation to weight standard deviation ratio at 1st layer', 'x': 0.5},\n",
              "               'width': 1500,\n",
              "               'xaxis': {'title': {'text': 'Step'}},\n",
              "               'yaxis': {'title': {'text': 'Gradient to weight ratio (log scale)'}, 'type': 'log'}}\n",
              "})"
            ]
          },
          "metadata": {
            "application/vnd.jupyter.widget-view+json": {
              "colab": {
                "custom_widget_manager": {
                  "url": "https://ssl.gstatic.com/colaboratory-static/widgets/colab-cdn-widget-manager/2b70e893a8ba7c0f/manager.min.js"
                }
              }
            }
          }
        },
        {
          "output_type": "display_data",
          "data": {
            "application/vnd.jupyter.widget-view+json": {
              "version_major": 2,
              "version_minor": 0,
              "model_id": "f410f65ca6de43c699ab43d6feebe25a"
            },
            "text/plain": [
              "FigureWidget({\n",
              "    'data': [{'mode': 'lines+markers',\n",
              "              'showlegend': True,\n",
              "              'type': 'scatter',\n",
              "              'uid': 'f46668d0-da16-4a3f-b151-eb49ee878248',\n",
              "              'x': [],\n",
              "              'y': []},\n",
              "             {'mode': 'lines+markers',\n",
              "              'showlegend': True,\n",
              "              'type': 'scatter',\n",
              "              'uid': 'f404e25d-22fd-48f6-89b5-791181556870',\n",
              "              'x': [],\n",
              "              'y': []},\n",
              "             {'mode': 'lines+markers',\n",
              "              'showlegend': True,\n",
              "              'type': 'scatter',\n",
              "              'uid': '0e3e0e31-ea75-4a31-8c3b-cf6ac1c31b4a',\n",
              "              'x': [],\n",
              "              'y': []},\n",
              "             {'mode': 'lines+markers',\n",
              "              'showlegend': True,\n",
              "              'type': 'scatter',\n",
              "              'uid': '206e4ed6-93e9-4f23-9f55-9c881ba73d8d',\n",
              "              'x': [],\n",
              "              'y': []},\n",
              "             {'mode': 'lines+markers',\n",
              "              'showlegend': True,\n",
              "              'type': 'scatter',\n",
              "              'uid': '77feb850-65d0-40e7-a036-e9933570921a',\n",
              "              'x': [],\n",
              "              'y': []},\n",
              "             {'mode': 'lines+markers',\n",
              "              'showlegend': True,\n",
              "              'type': 'scatter',\n",
              "              'uid': '1118a657-d197-4bca-a3f0-44d6f28d5ac9',\n",
              "              'x': [],\n",
              "              'y': []},\n",
              "             {'mode': 'lines+markers',\n",
              "              'showlegend': True,\n",
              "              'type': 'scatter',\n",
              "              'uid': '51786517-44d0-41c8-a454-377f420cca41',\n",
              "              'x': [],\n",
              "              'y': []},\n",
              "             {'mode': 'lines+markers',\n",
              "              'showlegend': True,\n",
              "              'type': 'scatter',\n",
              "              'uid': '3fdf3456-87cc-45f3-a7ac-24542caf1f90',\n",
              "              'x': [],\n",
              "              'y': []},\n",
              "             {'mode': 'lines+markers',\n",
              "              'showlegend': True,\n",
              "              'type': 'scatter',\n",
              "              'uid': '1d6aa05a-4503-485a-849c-9f89c3fc2e69',\n",
              "              'x': [],\n",
              "              'y': []},\n",
              "             {'mode': 'lines+markers',\n",
              "              'showlegend': True,\n",
              "              'type': 'scatter',\n",
              "              'uid': '3f97c703-ba04-4ac8-904f-254f6d3c60eb',\n",
              "              'x': [],\n",
              "              'y': []},\n",
              "             {'mode': 'lines+markers',\n",
              "              'showlegend': True,\n",
              "              'type': 'scatter',\n",
              "              'uid': 'f6005629-da4b-4a55-b0aa-1c8c023b3543',\n",
              "              'x': [],\n",
              "              'y': []},\n",
              "             {'mode': 'lines+markers',\n",
              "              'showlegend': True,\n",
              "              'type': 'scatter',\n",
              "              'uid': '206ff43d-706c-4de0-9885-84fecc515ba8',\n",
              "              'x': [],\n",
              "              'y': []},\n",
              "             {'mode': 'lines+markers',\n",
              "              'showlegend': True,\n",
              "              'type': 'scatter',\n",
              "              'uid': '44e70675-6b51-4068-889c-b5734235e900',\n",
              "              'x': [],\n",
              "              'y': []},\n",
              "             {'mode': 'lines+markers',\n",
              "              'showlegend': True,\n",
              "              'type': 'scatter',\n",
              "              'uid': 'df2920c4-08ca-4832-b415-29954c215916',\n",
              "              'x': [],\n",
              "              'y': []},\n",
              "             {'mode': 'lines+markers',\n",
              "              'showlegend': True,\n",
              "              'type': 'scatter',\n",
              "              'uid': '8a176135-1228-4de9-a2d1-324494398a75',\n",
              "              'x': [],\n",
              "              'y': []},\n",
              "             {'mode': 'lines+markers',\n",
              "              'showlegend': True,\n",
              "              'type': 'scatter',\n",
              "              'uid': '55f4920d-a41b-42a7-b51f-cfd30cbe446a',\n",
              "              'x': [],\n",
              "              'y': []},\n",
              "             {'mode': 'lines+markers',\n",
              "              'showlegend': True,\n",
              "              'type': 'scatter',\n",
              "              'uid': 'a1b221b5-4b4a-4c10-811e-3fac35ef7818',\n",
              "              'x': [],\n",
              "              'y': []},\n",
              "             {'mode': 'lines+markers',\n",
              "              'showlegend': True,\n",
              "              'type': 'scatter',\n",
              "              'uid': '83673e6f-0e39-4253-8746-5b1d34f37ab4',\n",
              "              'x': [],\n",
              "              'y': []},\n",
              "             {'mode': 'lines+markers',\n",
              "              'showlegend': True,\n",
              "              'type': 'scatter',\n",
              "              'uid': 'c69d2fbf-1d2e-4f97-8011-69112c4783e9',\n",
              "              'x': [],\n",
              "              'y': []},\n",
              "             {'mode': 'lines+markers',\n",
              "              'showlegend': True,\n",
              "              'type': 'scatter',\n",
              "              'uid': 'ccb7f5b1-e6ef-4ddd-87bf-ba3ea9f00443',\n",
              "              'x': [],\n",
              "              'y': []},\n",
              "             {'mode': 'lines+markers',\n",
              "              'showlegend': True,\n",
              "              'type': 'scatter',\n",
              "              'uid': '1b478718-6eeb-4c42-90c6-d640fbbe1924',\n",
              "              'x': [],\n",
              "              'y': []},\n",
              "             {'mode': 'lines+markers',\n",
              "              'showlegend': True,\n",
              "              'type': 'scatter',\n",
              "              'uid': '7b0050f5-2a97-4913-b713-5daed07566b4',\n",
              "              'x': [],\n",
              "              'y': []},\n",
              "             {'mode': 'lines+markers',\n",
              "              'showlegend': True,\n",
              "              'type': 'scatter',\n",
              "              'uid': '536b5e61-4d94-46c2-9c6b-a81c7d284b61',\n",
              "              'x': [],\n",
              "              'y': []},\n",
              "             {'mode': 'lines+markers',\n",
              "              'showlegend': True,\n",
              "              'type': 'scatter',\n",
              "              'uid': '7a22ff63-6c6e-42eb-ba22-e73cb7217214',\n",
              "              'x': [],\n",
              "              'y': []},\n",
              "             {'mode': 'lines+markers',\n",
              "              'showlegend': True,\n",
              "              'type': 'scatter',\n",
              "              'uid': '59cbd237-5b20-4353-a7e3-dd9188f16b71',\n",
              "              'x': [],\n",
              "              'y': []}],\n",
              "    'layout': {'height': 400,\n",
              "               'margin': {'b': 10, 't': 60},\n",
              "               'template': '...',\n",
              "               'title': {'text': 'Test accuracy', 'x': 0.5},\n",
              "               'width': 1500,\n",
              "               'xaxis': {'title': {'text': 'Epoch'}},\n",
              "               'yaxis': {'type': 'linear'}}\n",
              "})"
            ]
          },
          "metadata": {
            "application/vnd.jupyter.widget-view+json": {
              "colab": {
                "custom_widget_manager": {
                  "url": "https://ssl.gstatic.com/colaboratory-static/widgets/colab-cdn-widget-manager/2b70e893a8ba7c0f/manager.min.js"
                }
              }
            }
          }
        }
      ],
      "source": [
        "visualizer = TrainingVisualizer(log_interval=log_interval)"
      ]
    },
    {
      "cell_type": "code",
      "execution_count": null,
      "metadata": {
        "id": "ezvIQbgsfBRT"
      },
      "outputs": [],
      "source": [
        "# Note that there is a difference between taking tensor to device and model to device.\n",
        "# Consider writing model.to(torch.device(\"cpu\")) and some_tesnor.to(torch.device(\"cpu\"))\n",
        "# What seems to be happening in-place?\n",
        "params = [\n",
        "    ('adam', 1e-2),\n",
        "    ('adam', 1e-3),\n",
        "    ('adam', 1e-4),\n",
        "    ('momentum', 1e-2),\n",
        "    ('momentum', 1e-3),\n",
        "    ('momentum', 1e-4),\n",
        "]\n",
        "\n",
        "for p in params:\n",
        "  model = Net([784, 128, 128, 10]).to(device)\n",
        "  # Look at the output of list(model.parameters()) as you add new parameters to the model\n",
        "  # What happens when the parameters are inside the standard list instead of torch.nn.ModuleList?\n",
        "  if p[0] == 'adam':\n",
        "    optimizer = optim.Adam(model.parameters(), lr=lr)\n",
        "  if p[0] == 'momentum':\n",
        "    optimizer = optim.SGD(model.parameters(), lr=lr, momentum=0.9)\n",
        "\n",
        "  visualizer.track_model(model, optimizer, p[1])\n",
        "\n",
        "  print_details = False  # change if you want additional output\n",
        "\n",
        "  for epoch in range(1, epochs + 1):\n",
        "      train(\n",
        "          model,\n",
        "          device,\n",
        "          train_loader,\n",
        "          optimizer,\n",
        "          epoch,\n",
        "          log_interval,\n",
        "          visualizer,\n",
        "          verbose=print_details,\n",
        "      )\n",
        "      test(model, device, test_loader, epoch, visualizer, verbose=print_details)\n",
        "\n",
        "# investigate the results, what is the shape of test accuracy curve? Try to explain it."
      ]
    },
    {
      "cell_type": "code",
      "source": [],
      "metadata": {
        "id": "ZwZgVjGsReGA"
      },
      "execution_count": null,
      "outputs": []
    }
  ],
  "metadata": {
    "colab": {
      "provenance": [],
      "machine_shape": "hm",
      "gpuType": "A100"
    },
    "kernelspec": {
      "display_name": "Python 3",
      "name": "python3"
    },
    "language_info": {
      "codemirror_mode": {
        "name": "ipython",
        "version": 3
      },
      "file_extension": ".py",
      "mimetype": "text/x-python",
      "name": "python",
      "nbconvert_exporter": "python",
      "pygments_lexer": "ipython3",
      "version": "3.12.3"
    },
    "accelerator": "GPU",
    "widgets": {
      "application/vnd.jupyter.widget-state+json": {
        "531fe9a204fd45868b3ee83758647d5d": {
          "model_module": "jupyterlab-plotly",
          "model_name": "FigureModel",
          "model_module_version": "^5.24.1",
          "state": {
            "_config": {
              "plotlyServerURL": "https://plot.ly"
            },
            "_data": [
              {
                "mode": "lines",
                "showlegend": true,
                "y": [],
                "type": "scatter",
                "uid": "e2e76adf-59d7-41ba-9aa2-4c58742f58df"
              },
              {
                "mode": "lines",
                "showlegend": true,
                "y": [],
                "type": "scatter",
                "uid": "5c87e2a1-49ec-459c-ae4b-7f2987a1686d"
              },
              {
                "mode": "lines",
                "showlegend": true,
                "y": [],
                "type": "scatter",
                "uid": "18411089-963e-4b18-82c8-56df902f4f89"
              },
              {
                "mode": "lines",
                "showlegend": true,
                "y": [],
                "type": "scatter",
                "uid": "a29b392a-73a5-4016-8975-2c2ec4573c47"
              },
              {
                "mode": "lines",
                "showlegend": true,
                "y": [],
                "type": "scatter",
                "uid": "f05feff4-f2bd-4e9f-b3d0-624c086117e4"
              },
              {
                "mode": "lines",
                "showlegend": true,
                "y": [],
                "type": "scatter",
                "uid": "ffd5089d-8807-4eeb-8e4d-edd683d8b1d8"
              },
              {
                "mode": "lines",
                "showlegend": true,
                "y": [],
                "type": "scatter",
                "uid": "62316c01-821e-441d-95af-d73ae2d06693"
              },
              {
                "mode": "lines",
                "showlegend": true,
                "y": [],
                "type": "scatter",
                "uid": "3bbdc4d5-aec4-4194-b9e1-008203740fa7"
              },
              {
                "mode": "lines",
                "showlegend": true,
                "y": [],
                "type": "scatter",
                "uid": "b5f63bb5-4c39-481d-a59c-58d90cb40eff"
              },
              {
                "mode": "lines",
                "showlegend": true,
                "y": [],
                "type": "scatter",
                "uid": "a65f9ad6-a8c0-4bdc-83f0-8febf6fc7730"
              },
              {
                "mode": "lines",
                "showlegend": true,
                "y": [],
                "type": "scatter",
                "uid": "2e7ab47c-9f87-4c56-bbe6-5e6c9e92a30f"
              },
              {
                "mode": "lines",
                "showlegend": true,
                "y": [],
                "type": "scatter",
                "uid": "6d32d1d7-bcd9-46e8-9c72-6f4468dfb32d"
              },
              {
                "mode": "lines",
                "showlegend": true,
                "y": [],
                "type": "scatter",
                "uid": "2122b3ec-4884-41c2-91c4-7ee78a2e08c5"
              },
              {
                "mode": "lines",
                "showlegend": true,
                "y": [],
                "type": "scatter",
                "uid": "6ea41bc8-f204-446b-929e-e0132359807f"
              },
              {
                "mode": "lines",
                "showlegend": true,
                "y": [],
                "type": "scatter",
                "uid": "5f3c13cb-4693-48a1-8e8b-d7f1a6650a79"
              },
              {
                "mode": "lines",
                "showlegend": true,
                "y": [],
                "type": "scatter",
                "uid": "c902ce09-930d-4a0a-96c3-cf427f376148"
              },
              {
                "mode": "lines",
                "showlegend": true,
                "y": [],
                "type": "scatter",
                "uid": "558ea230-e344-4a5e-a540-248fe03445c2"
              },
              {
                "mode": "lines",
                "showlegend": true,
                "y": [],
                "type": "scatter",
                "uid": "39d6884b-6e12-4061-9fe5-c9328a0c88c4"
              },
              {
                "mode": "lines",
                "showlegend": true,
                "y": [],
                "type": "scatter",
                "uid": "6f02556f-1301-4c85-9616-27bda12b11eb"
              },
              {
                "mode": "lines",
                "showlegend": true,
                "y": [],
                "type": "scatter",
                "uid": "bf929335-c955-41c8-ab30-0b8782f84d99"
              },
              {
                "mode": "lines",
                "showlegend": true,
                "y": [],
                "type": "scatter",
                "uid": "d9d80f13-5679-4bb8-b8fc-727a1d73c4a0"
              },
              {
                "mode": "lines",
                "showlegend": true,
                "y": [],
                "type": "scatter",
                "uid": "33562237-cfb1-4d28-b21f-8e0305fa482d"
              },
              {
                "mode": "lines",
                "showlegend": true,
                "y": [],
                "type": "scatter",
                "uid": "8356f427-463f-4fc6-b2c3-9588a01af373"
              },
              {
                "mode": "lines",
                "showlegend": true,
                "y": [],
                "type": "scatter",
                "uid": "5da2c0a2-92d6-4664-b6b8-b4f0a7c0905a"
              },
              {
                "mode": "lines",
                "showlegend": true,
                "y": [],
                "type": "scatter",
                "uid": "06f14742-27d6-46f8-9623-9cd3e87dc31f"
              }
            ],
            "_dom_classes": [],
            "_js2py_layoutDelta": {},
            "_js2py_pointsCallback": {},
            "_js2py_relayout": {},
            "_js2py_restyle": {},
            "_js2py_traceDeltas": {},
            "_js2py_update": {},
            "_last_layout_edit_id": 100,
            "_last_trace_edit_id": 100,
            "_layout": {
              "height": 400,
              "margin": {
                "b": 10,
                "t": 60
              },
              "template": {
                "data": {
                  "barpolar": [
                    {
                      "marker": {
                        "line": {
                          "color": "#E5ECF6",
                          "width": 0.5
                        },
                        "pattern": {
                          "fillmode": "overlay",
                          "size": 10,
                          "solidity": 0.2
                        }
                      },
                      "type": "barpolar"
                    }
                  ],
                  "bar": [
                    {
                      "error_x": {
                        "color": "#2a3f5f"
                      },
                      "error_y": {
                        "color": "#2a3f5f"
                      },
                      "marker": {
                        "line": {
                          "color": "#E5ECF6",
                          "width": 0.5
                        },
                        "pattern": {
                          "fillmode": "overlay",
                          "size": 10,
                          "solidity": 0.2
                        }
                      },
                      "type": "bar"
                    }
                  ],
                  "carpet": [
                    {
                      "aaxis": {
                        "endlinecolor": "#2a3f5f",
                        "gridcolor": "white",
                        "linecolor": "white",
                        "minorgridcolor": "white",
                        "startlinecolor": "#2a3f5f"
                      },
                      "baxis": {
                        "endlinecolor": "#2a3f5f",
                        "gridcolor": "white",
                        "linecolor": "white",
                        "minorgridcolor": "white",
                        "startlinecolor": "#2a3f5f"
                      },
                      "type": "carpet"
                    }
                  ],
                  "choropleth": [
                    {
                      "colorbar": {
                        "outlinewidth": 0,
                        "ticks": ""
                      },
                      "type": "choropleth"
                    }
                  ],
                  "contourcarpet": [
                    {
                      "colorbar": {
                        "outlinewidth": 0,
                        "ticks": ""
                      },
                      "type": "contourcarpet"
                    }
                  ],
                  "contour": [
                    {
                      "colorbar": {
                        "outlinewidth": 0,
                        "ticks": ""
                      },
                      "colorscale": [
                        [
                          0,
                          "#0d0887"
                        ],
                        [
                          0.1111111111111111,
                          "#46039f"
                        ],
                        [
                          0.2222222222222222,
                          "#7201a8"
                        ],
                        [
                          0.3333333333333333,
                          "#9c179e"
                        ],
                        [
                          0.4444444444444444,
                          "#bd3786"
                        ],
                        [
                          0.5555555555555556,
                          "#d8576b"
                        ],
                        [
                          0.6666666666666666,
                          "#ed7953"
                        ],
                        [
                          0.7777777777777778,
                          "#fb9f3a"
                        ],
                        [
                          0.8888888888888888,
                          "#fdca26"
                        ],
                        [
                          1,
                          "#f0f921"
                        ]
                      ],
                      "type": "contour"
                    }
                  ],
                  "heatmapgl": [
                    {
                      "colorbar": {
                        "outlinewidth": 0,
                        "ticks": ""
                      },
                      "colorscale": [
                        [
                          0,
                          "#0d0887"
                        ],
                        [
                          0.1111111111111111,
                          "#46039f"
                        ],
                        [
                          0.2222222222222222,
                          "#7201a8"
                        ],
                        [
                          0.3333333333333333,
                          "#9c179e"
                        ],
                        [
                          0.4444444444444444,
                          "#bd3786"
                        ],
                        [
                          0.5555555555555556,
                          "#d8576b"
                        ],
                        [
                          0.6666666666666666,
                          "#ed7953"
                        ],
                        [
                          0.7777777777777778,
                          "#fb9f3a"
                        ],
                        [
                          0.8888888888888888,
                          "#fdca26"
                        ],
                        [
                          1,
                          "#f0f921"
                        ]
                      ],
                      "type": "heatmapgl"
                    }
                  ],
                  "heatmap": [
                    {
                      "colorbar": {
                        "outlinewidth": 0,
                        "ticks": ""
                      },
                      "colorscale": [
                        [
                          0,
                          "#0d0887"
                        ],
                        [
                          0.1111111111111111,
                          "#46039f"
                        ],
                        [
                          0.2222222222222222,
                          "#7201a8"
                        ],
                        [
                          0.3333333333333333,
                          "#9c179e"
                        ],
                        [
                          0.4444444444444444,
                          "#bd3786"
                        ],
                        [
                          0.5555555555555556,
                          "#d8576b"
                        ],
                        [
                          0.6666666666666666,
                          "#ed7953"
                        ],
                        [
                          0.7777777777777778,
                          "#fb9f3a"
                        ],
                        [
                          0.8888888888888888,
                          "#fdca26"
                        ],
                        [
                          1,
                          "#f0f921"
                        ]
                      ],
                      "type": "heatmap"
                    }
                  ],
                  "histogram2dcontour": [
                    {
                      "colorbar": {
                        "outlinewidth": 0,
                        "ticks": ""
                      },
                      "colorscale": [
                        [
                          0,
                          "#0d0887"
                        ],
                        [
                          0.1111111111111111,
                          "#46039f"
                        ],
                        [
                          0.2222222222222222,
                          "#7201a8"
                        ],
                        [
                          0.3333333333333333,
                          "#9c179e"
                        ],
                        [
                          0.4444444444444444,
                          "#bd3786"
                        ],
                        [
                          0.5555555555555556,
                          "#d8576b"
                        ],
                        [
                          0.6666666666666666,
                          "#ed7953"
                        ],
                        [
                          0.7777777777777778,
                          "#fb9f3a"
                        ],
                        [
                          0.8888888888888888,
                          "#fdca26"
                        ],
                        [
                          1,
                          "#f0f921"
                        ]
                      ],
                      "type": "histogram2dcontour"
                    }
                  ],
                  "histogram2d": [
                    {
                      "colorbar": {
                        "outlinewidth": 0,
                        "ticks": ""
                      },
                      "colorscale": [
                        [
                          0,
                          "#0d0887"
                        ],
                        [
                          0.1111111111111111,
                          "#46039f"
                        ],
                        [
                          0.2222222222222222,
                          "#7201a8"
                        ],
                        [
                          0.3333333333333333,
                          "#9c179e"
                        ],
                        [
                          0.4444444444444444,
                          "#bd3786"
                        ],
                        [
                          0.5555555555555556,
                          "#d8576b"
                        ],
                        [
                          0.6666666666666666,
                          "#ed7953"
                        ],
                        [
                          0.7777777777777778,
                          "#fb9f3a"
                        ],
                        [
                          0.8888888888888888,
                          "#fdca26"
                        ],
                        [
                          1,
                          "#f0f921"
                        ]
                      ],
                      "type": "histogram2d"
                    }
                  ],
                  "histogram": [
                    {
                      "marker": {
                        "pattern": {
                          "fillmode": "overlay",
                          "size": 10,
                          "solidity": 0.2
                        }
                      },
                      "type": "histogram"
                    }
                  ],
                  "mesh3d": [
                    {
                      "colorbar": {
                        "outlinewidth": 0,
                        "ticks": ""
                      },
                      "type": "mesh3d"
                    }
                  ],
                  "parcoords": [
                    {
                      "line": {
                        "colorbar": {
                          "outlinewidth": 0,
                          "ticks": ""
                        }
                      },
                      "type": "parcoords"
                    }
                  ],
                  "pie": [
                    {
                      "automargin": true,
                      "type": "pie"
                    }
                  ],
                  "scatter3d": [
                    {
                      "line": {
                        "colorbar": {
                          "outlinewidth": 0,
                          "ticks": ""
                        }
                      },
                      "marker": {
                        "colorbar": {
                          "outlinewidth": 0,
                          "ticks": ""
                        }
                      },
                      "type": "scatter3d"
                    }
                  ],
                  "scattercarpet": [
                    {
                      "marker": {
                        "colorbar": {
                          "outlinewidth": 0,
                          "ticks": ""
                        }
                      },
                      "type": "scattercarpet"
                    }
                  ],
                  "scattergeo": [
                    {
                      "marker": {
                        "colorbar": {
                          "outlinewidth": 0,
                          "ticks": ""
                        }
                      },
                      "type": "scattergeo"
                    }
                  ],
                  "scattergl": [
                    {
                      "marker": {
                        "colorbar": {
                          "outlinewidth": 0,
                          "ticks": ""
                        }
                      },
                      "type": "scattergl"
                    }
                  ],
                  "scattermapbox": [
                    {
                      "marker": {
                        "colorbar": {
                          "outlinewidth": 0,
                          "ticks": ""
                        }
                      },
                      "type": "scattermapbox"
                    }
                  ],
                  "scatterpolargl": [
                    {
                      "marker": {
                        "colorbar": {
                          "outlinewidth": 0,
                          "ticks": ""
                        }
                      },
                      "type": "scatterpolargl"
                    }
                  ],
                  "scatterpolar": [
                    {
                      "marker": {
                        "colorbar": {
                          "outlinewidth": 0,
                          "ticks": ""
                        }
                      },
                      "type": "scatterpolar"
                    }
                  ],
                  "scatter": [
                    {
                      "fillpattern": {
                        "fillmode": "overlay",
                        "size": 10,
                        "solidity": 0.2
                      },
                      "type": "scatter"
                    }
                  ],
                  "scatterternary": [
                    {
                      "marker": {
                        "colorbar": {
                          "outlinewidth": 0,
                          "ticks": ""
                        }
                      },
                      "type": "scatterternary"
                    }
                  ],
                  "surface": [
                    {
                      "colorbar": {
                        "outlinewidth": 0,
                        "ticks": ""
                      },
                      "colorscale": [
                        [
                          0,
                          "#0d0887"
                        ],
                        [
                          0.1111111111111111,
                          "#46039f"
                        ],
                        [
                          0.2222222222222222,
                          "#7201a8"
                        ],
                        [
                          0.3333333333333333,
                          "#9c179e"
                        ],
                        [
                          0.4444444444444444,
                          "#bd3786"
                        ],
                        [
                          0.5555555555555556,
                          "#d8576b"
                        ],
                        [
                          0.6666666666666666,
                          "#ed7953"
                        ],
                        [
                          0.7777777777777778,
                          "#fb9f3a"
                        ],
                        [
                          0.8888888888888888,
                          "#fdca26"
                        ],
                        [
                          1,
                          "#f0f921"
                        ]
                      ],
                      "type": "surface"
                    }
                  ],
                  "table": [
                    {
                      "cells": {
                        "fill": {
                          "color": "#EBF0F8"
                        },
                        "line": {
                          "color": "white"
                        }
                      },
                      "header": {
                        "fill": {
                          "color": "#C8D4E3"
                        },
                        "line": {
                          "color": "white"
                        }
                      },
                      "type": "table"
                    }
                  ]
                },
                "layout": {
                  "annotationdefaults": {
                    "arrowcolor": "#2a3f5f",
                    "arrowhead": 0,
                    "arrowwidth": 1
                  },
                  "autotypenumbers": "strict",
                  "coloraxis": {
                    "colorbar": {
                      "outlinewidth": 0,
                      "ticks": ""
                    }
                  },
                  "colorscale": {
                    "diverging": [
                      [
                        0,
                        "#8e0152"
                      ],
                      [
                        0.1,
                        "#c51b7d"
                      ],
                      [
                        0.2,
                        "#de77ae"
                      ],
                      [
                        0.3,
                        "#f1b6da"
                      ],
                      [
                        0.4,
                        "#fde0ef"
                      ],
                      [
                        0.5,
                        "#f7f7f7"
                      ],
                      [
                        0.6,
                        "#e6f5d0"
                      ],
                      [
                        0.7,
                        "#b8e186"
                      ],
                      [
                        0.8,
                        "#7fbc41"
                      ],
                      [
                        0.9,
                        "#4d9221"
                      ],
                      [
                        1,
                        "#276419"
                      ]
                    ],
                    "sequential": [
                      [
                        0,
                        "#0d0887"
                      ],
                      [
                        0.1111111111111111,
                        "#46039f"
                      ],
                      [
                        0.2222222222222222,
                        "#7201a8"
                      ],
                      [
                        0.3333333333333333,
                        "#9c179e"
                      ],
                      [
                        0.4444444444444444,
                        "#bd3786"
                      ],
                      [
                        0.5555555555555556,
                        "#d8576b"
                      ],
                      [
                        0.6666666666666666,
                        "#ed7953"
                      ],
                      [
                        0.7777777777777778,
                        "#fb9f3a"
                      ],
                      [
                        0.8888888888888888,
                        "#fdca26"
                      ],
                      [
                        1,
                        "#f0f921"
                      ]
                    ],
                    "sequentialminus": [
                      [
                        0,
                        "#0d0887"
                      ],
                      [
                        0.1111111111111111,
                        "#46039f"
                      ],
                      [
                        0.2222222222222222,
                        "#7201a8"
                      ],
                      [
                        0.3333333333333333,
                        "#9c179e"
                      ],
                      [
                        0.4444444444444444,
                        "#bd3786"
                      ],
                      [
                        0.5555555555555556,
                        "#d8576b"
                      ],
                      [
                        0.6666666666666666,
                        "#ed7953"
                      ],
                      [
                        0.7777777777777778,
                        "#fb9f3a"
                      ],
                      [
                        0.8888888888888888,
                        "#fdca26"
                      ],
                      [
                        1,
                        "#f0f921"
                      ]
                    ]
                  },
                  "colorway": [
                    "#636efa",
                    "#EF553B",
                    "#00cc96",
                    "#ab63fa",
                    "#FFA15A",
                    "#19d3f3",
                    "#FF6692",
                    "#B6E880",
                    "#FF97FF",
                    "#FECB52"
                  ],
                  "font": {
                    "color": "#2a3f5f"
                  },
                  "geo": {
                    "bgcolor": "white",
                    "lakecolor": "white",
                    "landcolor": "#E5ECF6",
                    "showlakes": true,
                    "showland": true,
                    "subunitcolor": "white"
                  },
                  "hoverlabel": {
                    "align": "left"
                  },
                  "hovermode": "closest",
                  "mapbox": {
                    "style": "light"
                  },
                  "paper_bgcolor": "white",
                  "plot_bgcolor": "#E5ECF6",
                  "polar": {
                    "angularaxis": {
                      "gridcolor": "white",
                      "linecolor": "white",
                      "ticks": ""
                    },
                    "bgcolor": "#E5ECF6",
                    "radialaxis": {
                      "gridcolor": "white",
                      "linecolor": "white",
                      "ticks": ""
                    }
                  },
                  "scene": {
                    "xaxis": {
                      "backgroundcolor": "#E5ECF6",
                      "gridcolor": "white",
                      "gridwidth": 2,
                      "linecolor": "white",
                      "showbackground": true,
                      "ticks": "",
                      "zerolinecolor": "white"
                    },
                    "yaxis": {
                      "backgroundcolor": "#E5ECF6",
                      "gridcolor": "white",
                      "gridwidth": 2,
                      "linecolor": "white",
                      "showbackground": true,
                      "ticks": "",
                      "zerolinecolor": "white"
                    },
                    "zaxis": {
                      "backgroundcolor": "#E5ECF6",
                      "gridcolor": "white",
                      "gridwidth": 2,
                      "linecolor": "white",
                      "showbackground": true,
                      "ticks": "",
                      "zerolinecolor": "white"
                    }
                  },
                  "shapedefaults": {
                    "line": {
                      "color": "#2a3f5f"
                    }
                  },
                  "ternary": {
                    "aaxis": {
                      "gridcolor": "white",
                      "linecolor": "white",
                      "ticks": ""
                    },
                    "baxis": {
                      "gridcolor": "white",
                      "linecolor": "white",
                      "ticks": ""
                    },
                    "bgcolor": "#E5ECF6",
                    "caxis": {
                      "gridcolor": "white",
                      "linecolor": "white",
                      "ticks": ""
                    }
                  },
                  "title": {
                    "x": 0.05
                  },
                  "xaxis": {
                    "automargin": true,
                    "gridcolor": "white",
                    "linecolor": "white",
                    "ticks": "",
                    "title": {
                      "standoff": 15
                    },
                    "zerolinecolor": "white",
                    "zerolinewidth": 2
                  },
                  "yaxis": {
                    "automargin": true,
                    "gridcolor": "white",
                    "linecolor": "white",
                    "ticks": "",
                    "title": {
                      "standoff": 15
                    },
                    "zerolinecolor": "white",
                    "zerolinewidth": 2
                  }
                }
              },
              "title": {
                "text": "Training loss",
                "x": 0.5
              },
              "width": 1500,
              "xaxis": {
                "title": {
                  "text": "Step"
                }
              },
              "yaxis": {
                "type": "linear"
              }
            },
            "_model_module": "jupyterlab-plotly",
            "_model_module_version": "^5.24.1",
            "_model_name": "FigureModel",
            "_py2js_addTraces": {},
            "_py2js_animate": {},
            "_py2js_deleteTraces": {},
            "_py2js_moveTraces": {},
            "_py2js_relayout": {},
            "_py2js_removeLayoutProps": {},
            "_py2js_removeTraceProps": {},
            "_py2js_restyle": null,
            "_py2js_update": {},
            "_view_count": 1,
            "_view_module": "jupyterlab-plotly",
            "_view_module_version": "^5.24.1",
            "_view_name": "FigureView"
          }
        },
        "80f97f8333ad41cd8e6c1fcf2cfeb69e": {
          "model_module": "jupyterlab-plotly",
          "model_name": "FigureModel",
          "model_module_version": "^5.24.1",
          "state": {
            "_config": {
              "plotlyServerURL": "https://plot.ly"
            },
            "_data": [
              {
                "mode": "lines",
                "showlegend": true,
                "y": [],
                "type": "scatter",
                "uid": "8bcd737d-6bb7-4ce7-9c85-15da643f4cdf"
              },
              {
                "mode": "lines",
                "showlegend": true,
                "y": [],
                "type": "scatter",
                "uid": "ef0122b0-df41-48a6-b59c-df1501750140"
              },
              {
                "mode": "lines",
                "showlegend": true,
                "y": [],
                "type": "scatter",
                "uid": "e9512d69-b8a6-4872-b1fa-ff5848b62b01"
              },
              {
                "mode": "lines",
                "showlegend": true,
                "y": [],
                "type": "scatter",
                "uid": "66b07985-4613-4a80-9d71-d98407744099"
              },
              {
                "mode": "lines",
                "showlegend": true,
                "y": [],
                "type": "scatter",
                "uid": "31dbdd3f-51a5-41eb-aaba-1a6e8856e2b5"
              },
              {
                "mode": "lines",
                "showlegend": true,
                "y": [],
                "type": "scatter",
                "uid": "78e9fe31-3fd1-4997-adb4-dabae68592a1"
              },
              {
                "mode": "lines",
                "showlegend": true,
                "y": [],
                "type": "scatter",
                "uid": "d0dab666-0ad7-49a8-a713-8566e329a507"
              },
              {
                "mode": "lines",
                "showlegend": true,
                "y": [],
                "type": "scatter",
                "uid": "3a555581-949a-4e34-accf-9d114c3e9aa0"
              },
              {
                "mode": "lines",
                "showlegend": true,
                "y": [],
                "type": "scatter",
                "uid": "991da703-176f-42fa-b181-0d278b2edb73"
              },
              {
                "mode": "lines",
                "showlegend": true,
                "y": [],
                "type": "scatter",
                "uid": "8a699e0f-4069-4fa5-9c65-588967e59cf6"
              },
              {
                "mode": "lines",
                "showlegend": true,
                "y": [],
                "type": "scatter",
                "uid": "eb00dff0-7866-4691-b106-253d04c78236"
              },
              {
                "mode": "lines",
                "showlegend": true,
                "y": [],
                "type": "scatter",
                "uid": "38ec795c-09ea-45fb-980c-bb8ebb05474f"
              },
              {
                "mode": "lines",
                "showlegend": true,
                "y": [],
                "type": "scatter",
                "uid": "c5482c47-4cbc-4146-b5af-98621ee7d988"
              },
              {
                "mode": "lines",
                "showlegend": true,
                "y": [],
                "type": "scatter",
                "uid": "f182fed5-31e9-4074-ad22-dd371309fbdd"
              },
              {
                "mode": "lines",
                "showlegend": true,
                "y": [],
                "type": "scatter",
                "uid": "468434cb-792c-46a1-8a1f-ffa2ceb16b12"
              },
              {
                "mode": "lines",
                "showlegend": true,
                "y": [],
                "type": "scatter",
                "uid": "e0f0cf2f-935d-4448-ac76-e6887ed0faef"
              },
              {
                "mode": "lines",
                "showlegend": true,
                "y": [],
                "type": "scatter",
                "uid": "20b50ecb-3bc1-4b09-b25f-ae7e4f5d0ad8"
              },
              {
                "mode": "lines",
                "showlegend": true,
                "y": [],
                "type": "scatter",
                "uid": "d4723d4c-f658-44cc-8145-e2e03d498617"
              },
              {
                "mode": "lines",
                "showlegend": true,
                "y": [],
                "type": "scatter",
                "uid": "ed34d61d-a632-4740-b26e-6ebcecd74ed0"
              },
              {
                "mode": "lines",
                "showlegend": true,
                "y": [],
                "type": "scatter",
                "uid": "50c2d955-6ea1-48b3-9578-67d98a5de438"
              },
              {
                "mode": "lines",
                "showlegend": true,
                "y": [],
                "type": "scatter",
                "uid": "c203c484-4bb3-4f5e-a1b7-d012773f93bd"
              },
              {
                "mode": "lines",
                "showlegend": true,
                "y": [],
                "type": "scatter",
                "uid": "69bf3d9b-c7fb-4cb4-a242-3904a2e37d7c"
              },
              {
                "mode": "lines",
                "showlegend": true,
                "y": [],
                "type": "scatter",
                "uid": "597c087c-1800-4cbd-85f5-ca0bb1485a4c"
              },
              {
                "mode": "lines",
                "showlegend": true,
                "y": [],
                "type": "scatter",
                "uid": "8c2802fe-b253-4fce-9f04-fc68eb6ec9b6"
              },
              {
                "mode": "lines",
                "showlegend": true,
                "y": [],
                "type": "scatter",
                "uid": "3e72bf25-03ef-482f-b1f9-6523bf8978ef"
              }
            ],
            "_dom_classes": [],
            "_js2py_layoutDelta": {},
            "_js2py_pointsCallback": {},
            "_js2py_relayout": {},
            "_js2py_restyle": {},
            "_js2py_traceDeltas": {},
            "_js2py_update": {},
            "_last_layout_edit_id": 100,
            "_last_trace_edit_id": 100,
            "_layout": {
              "height": 400,
              "margin": {
                "b": 10,
                "t": 60
              },
              "template": {
                "data": {
                  "barpolar": [
                    {
                      "marker": {
                        "line": {
                          "color": "#E5ECF6",
                          "width": 0.5
                        },
                        "pattern": {
                          "fillmode": "overlay",
                          "size": 10,
                          "solidity": 0.2
                        }
                      },
                      "type": "barpolar"
                    }
                  ],
                  "bar": [
                    {
                      "error_x": {
                        "color": "#2a3f5f"
                      },
                      "error_y": {
                        "color": "#2a3f5f"
                      },
                      "marker": {
                        "line": {
                          "color": "#E5ECF6",
                          "width": 0.5
                        },
                        "pattern": {
                          "fillmode": "overlay",
                          "size": 10,
                          "solidity": 0.2
                        }
                      },
                      "type": "bar"
                    }
                  ],
                  "carpet": [
                    {
                      "aaxis": {
                        "endlinecolor": "#2a3f5f",
                        "gridcolor": "white",
                        "linecolor": "white",
                        "minorgridcolor": "white",
                        "startlinecolor": "#2a3f5f"
                      },
                      "baxis": {
                        "endlinecolor": "#2a3f5f",
                        "gridcolor": "white",
                        "linecolor": "white",
                        "minorgridcolor": "white",
                        "startlinecolor": "#2a3f5f"
                      },
                      "type": "carpet"
                    }
                  ],
                  "choropleth": [
                    {
                      "colorbar": {
                        "outlinewidth": 0,
                        "ticks": ""
                      },
                      "type": "choropleth"
                    }
                  ],
                  "contourcarpet": [
                    {
                      "colorbar": {
                        "outlinewidth": 0,
                        "ticks": ""
                      },
                      "type": "contourcarpet"
                    }
                  ],
                  "contour": [
                    {
                      "colorbar": {
                        "outlinewidth": 0,
                        "ticks": ""
                      },
                      "colorscale": [
                        [
                          0,
                          "#0d0887"
                        ],
                        [
                          0.1111111111111111,
                          "#46039f"
                        ],
                        [
                          0.2222222222222222,
                          "#7201a8"
                        ],
                        [
                          0.3333333333333333,
                          "#9c179e"
                        ],
                        [
                          0.4444444444444444,
                          "#bd3786"
                        ],
                        [
                          0.5555555555555556,
                          "#d8576b"
                        ],
                        [
                          0.6666666666666666,
                          "#ed7953"
                        ],
                        [
                          0.7777777777777778,
                          "#fb9f3a"
                        ],
                        [
                          0.8888888888888888,
                          "#fdca26"
                        ],
                        [
                          1,
                          "#f0f921"
                        ]
                      ],
                      "type": "contour"
                    }
                  ],
                  "heatmapgl": [
                    {
                      "colorbar": {
                        "outlinewidth": 0,
                        "ticks": ""
                      },
                      "colorscale": [
                        [
                          0,
                          "#0d0887"
                        ],
                        [
                          0.1111111111111111,
                          "#46039f"
                        ],
                        [
                          0.2222222222222222,
                          "#7201a8"
                        ],
                        [
                          0.3333333333333333,
                          "#9c179e"
                        ],
                        [
                          0.4444444444444444,
                          "#bd3786"
                        ],
                        [
                          0.5555555555555556,
                          "#d8576b"
                        ],
                        [
                          0.6666666666666666,
                          "#ed7953"
                        ],
                        [
                          0.7777777777777778,
                          "#fb9f3a"
                        ],
                        [
                          0.8888888888888888,
                          "#fdca26"
                        ],
                        [
                          1,
                          "#f0f921"
                        ]
                      ],
                      "type": "heatmapgl"
                    }
                  ],
                  "heatmap": [
                    {
                      "colorbar": {
                        "outlinewidth": 0,
                        "ticks": ""
                      },
                      "colorscale": [
                        [
                          0,
                          "#0d0887"
                        ],
                        [
                          0.1111111111111111,
                          "#46039f"
                        ],
                        [
                          0.2222222222222222,
                          "#7201a8"
                        ],
                        [
                          0.3333333333333333,
                          "#9c179e"
                        ],
                        [
                          0.4444444444444444,
                          "#bd3786"
                        ],
                        [
                          0.5555555555555556,
                          "#d8576b"
                        ],
                        [
                          0.6666666666666666,
                          "#ed7953"
                        ],
                        [
                          0.7777777777777778,
                          "#fb9f3a"
                        ],
                        [
                          0.8888888888888888,
                          "#fdca26"
                        ],
                        [
                          1,
                          "#f0f921"
                        ]
                      ],
                      "type": "heatmap"
                    }
                  ],
                  "histogram2dcontour": [
                    {
                      "colorbar": {
                        "outlinewidth": 0,
                        "ticks": ""
                      },
                      "colorscale": [
                        [
                          0,
                          "#0d0887"
                        ],
                        [
                          0.1111111111111111,
                          "#46039f"
                        ],
                        [
                          0.2222222222222222,
                          "#7201a8"
                        ],
                        [
                          0.3333333333333333,
                          "#9c179e"
                        ],
                        [
                          0.4444444444444444,
                          "#bd3786"
                        ],
                        [
                          0.5555555555555556,
                          "#d8576b"
                        ],
                        [
                          0.6666666666666666,
                          "#ed7953"
                        ],
                        [
                          0.7777777777777778,
                          "#fb9f3a"
                        ],
                        [
                          0.8888888888888888,
                          "#fdca26"
                        ],
                        [
                          1,
                          "#f0f921"
                        ]
                      ],
                      "type": "histogram2dcontour"
                    }
                  ],
                  "histogram2d": [
                    {
                      "colorbar": {
                        "outlinewidth": 0,
                        "ticks": ""
                      },
                      "colorscale": [
                        [
                          0,
                          "#0d0887"
                        ],
                        [
                          0.1111111111111111,
                          "#46039f"
                        ],
                        [
                          0.2222222222222222,
                          "#7201a8"
                        ],
                        [
                          0.3333333333333333,
                          "#9c179e"
                        ],
                        [
                          0.4444444444444444,
                          "#bd3786"
                        ],
                        [
                          0.5555555555555556,
                          "#d8576b"
                        ],
                        [
                          0.6666666666666666,
                          "#ed7953"
                        ],
                        [
                          0.7777777777777778,
                          "#fb9f3a"
                        ],
                        [
                          0.8888888888888888,
                          "#fdca26"
                        ],
                        [
                          1,
                          "#f0f921"
                        ]
                      ],
                      "type": "histogram2d"
                    }
                  ],
                  "histogram": [
                    {
                      "marker": {
                        "pattern": {
                          "fillmode": "overlay",
                          "size": 10,
                          "solidity": 0.2
                        }
                      },
                      "type": "histogram"
                    }
                  ],
                  "mesh3d": [
                    {
                      "colorbar": {
                        "outlinewidth": 0,
                        "ticks": ""
                      },
                      "type": "mesh3d"
                    }
                  ],
                  "parcoords": [
                    {
                      "line": {
                        "colorbar": {
                          "outlinewidth": 0,
                          "ticks": ""
                        }
                      },
                      "type": "parcoords"
                    }
                  ],
                  "pie": [
                    {
                      "automargin": true,
                      "type": "pie"
                    }
                  ],
                  "scatter3d": [
                    {
                      "line": {
                        "colorbar": {
                          "outlinewidth": 0,
                          "ticks": ""
                        }
                      },
                      "marker": {
                        "colorbar": {
                          "outlinewidth": 0,
                          "ticks": ""
                        }
                      },
                      "type": "scatter3d"
                    }
                  ],
                  "scattercarpet": [
                    {
                      "marker": {
                        "colorbar": {
                          "outlinewidth": 0,
                          "ticks": ""
                        }
                      },
                      "type": "scattercarpet"
                    }
                  ],
                  "scattergeo": [
                    {
                      "marker": {
                        "colorbar": {
                          "outlinewidth": 0,
                          "ticks": ""
                        }
                      },
                      "type": "scattergeo"
                    }
                  ],
                  "scattergl": [
                    {
                      "marker": {
                        "colorbar": {
                          "outlinewidth": 0,
                          "ticks": ""
                        }
                      },
                      "type": "scattergl"
                    }
                  ],
                  "scattermapbox": [
                    {
                      "marker": {
                        "colorbar": {
                          "outlinewidth": 0,
                          "ticks": ""
                        }
                      },
                      "type": "scattermapbox"
                    }
                  ],
                  "scatterpolargl": [
                    {
                      "marker": {
                        "colorbar": {
                          "outlinewidth": 0,
                          "ticks": ""
                        }
                      },
                      "type": "scatterpolargl"
                    }
                  ],
                  "scatterpolar": [
                    {
                      "marker": {
                        "colorbar": {
                          "outlinewidth": 0,
                          "ticks": ""
                        }
                      },
                      "type": "scatterpolar"
                    }
                  ],
                  "scatter": [
                    {
                      "fillpattern": {
                        "fillmode": "overlay",
                        "size": 10,
                        "solidity": 0.2
                      },
                      "type": "scatter"
                    }
                  ],
                  "scatterternary": [
                    {
                      "marker": {
                        "colorbar": {
                          "outlinewidth": 0,
                          "ticks": ""
                        }
                      },
                      "type": "scatterternary"
                    }
                  ],
                  "surface": [
                    {
                      "colorbar": {
                        "outlinewidth": 0,
                        "ticks": ""
                      },
                      "colorscale": [
                        [
                          0,
                          "#0d0887"
                        ],
                        [
                          0.1111111111111111,
                          "#46039f"
                        ],
                        [
                          0.2222222222222222,
                          "#7201a8"
                        ],
                        [
                          0.3333333333333333,
                          "#9c179e"
                        ],
                        [
                          0.4444444444444444,
                          "#bd3786"
                        ],
                        [
                          0.5555555555555556,
                          "#d8576b"
                        ],
                        [
                          0.6666666666666666,
                          "#ed7953"
                        ],
                        [
                          0.7777777777777778,
                          "#fb9f3a"
                        ],
                        [
                          0.8888888888888888,
                          "#fdca26"
                        ],
                        [
                          1,
                          "#f0f921"
                        ]
                      ],
                      "type": "surface"
                    }
                  ],
                  "table": [
                    {
                      "cells": {
                        "fill": {
                          "color": "#EBF0F8"
                        },
                        "line": {
                          "color": "white"
                        }
                      },
                      "header": {
                        "fill": {
                          "color": "#C8D4E3"
                        },
                        "line": {
                          "color": "white"
                        }
                      },
                      "type": "table"
                    }
                  ]
                },
                "layout": {
                  "annotationdefaults": {
                    "arrowcolor": "#2a3f5f",
                    "arrowhead": 0,
                    "arrowwidth": 1
                  },
                  "autotypenumbers": "strict",
                  "coloraxis": {
                    "colorbar": {
                      "outlinewidth": 0,
                      "ticks": ""
                    }
                  },
                  "colorscale": {
                    "diverging": [
                      [
                        0,
                        "#8e0152"
                      ],
                      [
                        0.1,
                        "#c51b7d"
                      ],
                      [
                        0.2,
                        "#de77ae"
                      ],
                      [
                        0.3,
                        "#f1b6da"
                      ],
                      [
                        0.4,
                        "#fde0ef"
                      ],
                      [
                        0.5,
                        "#f7f7f7"
                      ],
                      [
                        0.6,
                        "#e6f5d0"
                      ],
                      [
                        0.7,
                        "#b8e186"
                      ],
                      [
                        0.8,
                        "#7fbc41"
                      ],
                      [
                        0.9,
                        "#4d9221"
                      ],
                      [
                        1,
                        "#276419"
                      ]
                    ],
                    "sequential": [
                      [
                        0,
                        "#0d0887"
                      ],
                      [
                        0.1111111111111111,
                        "#46039f"
                      ],
                      [
                        0.2222222222222222,
                        "#7201a8"
                      ],
                      [
                        0.3333333333333333,
                        "#9c179e"
                      ],
                      [
                        0.4444444444444444,
                        "#bd3786"
                      ],
                      [
                        0.5555555555555556,
                        "#d8576b"
                      ],
                      [
                        0.6666666666666666,
                        "#ed7953"
                      ],
                      [
                        0.7777777777777778,
                        "#fb9f3a"
                      ],
                      [
                        0.8888888888888888,
                        "#fdca26"
                      ],
                      [
                        1,
                        "#f0f921"
                      ]
                    ],
                    "sequentialminus": [
                      [
                        0,
                        "#0d0887"
                      ],
                      [
                        0.1111111111111111,
                        "#46039f"
                      ],
                      [
                        0.2222222222222222,
                        "#7201a8"
                      ],
                      [
                        0.3333333333333333,
                        "#9c179e"
                      ],
                      [
                        0.4444444444444444,
                        "#bd3786"
                      ],
                      [
                        0.5555555555555556,
                        "#d8576b"
                      ],
                      [
                        0.6666666666666666,
                        "#ed7953"
                      ],
                      [
                        0.7777777777777778,
                        "#fb9f3a"
                      ],
                      [
                        0.8888888888888888,
                        "#fdca26"
                      ],
                      [
                        1,
                        "#f0f921"
                      ]
                    ]
                  },
                  "colorway": [
                    "#636efa",
                    "#EF553B",
                    "#00cc96",
                    "#ab63fa",
                    "#FFA15A",
                    "#19d3f3",
                    "#FF6692",
                    "#B6E880",
                    "#FF97FF",
                    "#FECB52"
                  ],
                  "font": {
                    "color": "#2a3f5f"
                  },
                  "geo": {
                    "bgcolor": "white",
                    "lakecolor": "white",
                    "landcolor": "#E5ECF6",
                    "showlakes": true,
                    "showland": true,
                    "subunitcolor": "white"
                  },
                  "hoverlabel": {
                    "align": "left"
                  },
                  "hovermode": "closest",
                  "mapbox": {
                    "style": "light"
                  },
                  "paper_bgcolor": "white",
                  "plot_bgcolor": "#E5ECF6",
                  "polar": {
                    "angularaxis": {
                      "gridcolor": "white",
                      "linecolor": "white",
                      "ticks": ""
                    },
                    "bgcolor": "#E5ECF6",
                    "radialaxis": {
                      "gridcolor": "white",
                      "linecolor": "white",
                      "ticks": ""
                    }
                  },
                  "scene": {
                    "xaxis": {
                      "backgroundcolor": "#E5ECF6",
                      "gridcolor": "white",
                      "gridwidth": 2,
                      "linecolor": "white",
                      "showbackground": true,
                      "ticks": "",
                      "zerolinecolor": "white"
                    },
                    "yaxis": {
                      "backgroundcolor": "#E5ECF6",
                      "gridcolor": "white",
                      "gridwidth": 2,
                      "linecolor": "white",
                      "showbackground": true,
                      "ticks": "",
                      "zerolinecolor": "white"
                    },
                    "zaxis": {
                      "backgroundcolor": "#E5ECF6",
                      "gridcolor": "white",
                      "gridwidth": 2,
                      "linecolor": "white",
                      "showbackground": true,
                      "ticks": "",
                      "zerolinecolor": "white"
                    }
                  },
                  "shapedefaults": {
                    "line": {
                      "color": "#2a3f5f"
                    }
                  },
                  "ternary": {
                    "aaxis": {
                      "gridcolor": "white",
                      "linecolor": "white",
                      "ticks": ""
                    },
                    "baxis": {
                      "gridcolor": "white",
                      "linecolor": "white",
                      "ticks": ""
                    },
                    "bgcolor": "#E5ECF6",
                    "caxis": {
                      "gridcolor": "white",
                      "linecolor": "white",
                      "ticks": ""
                    }
                  },
                  "title": {
                    "x": 0.05
                  },
                  "xaxis": {
                    "automargin": true,
                    "gridcolor": "white",
                    "linecolor": "white",
                    "ticks": "",
                    "title": {
                      "standoff": 15
                    },
                    "zerolinecolor": "white",
                    "zerolinewidth": 2
                  },
                  "yaxis": {
                    "automargin": true,
                    "gridcolor": "white",
                    "linecolor": "white",
                    "ticks": "",
                    "title": {
                      "standoff": 15
                    },
                    "zerolinecolor": "white",
                    "zerolinewidth": 2
                  }
                }
              },
              "title": {
                "text": "Gradient standard deviation to weight standard deviation ratio at 1st layer",
                "x": 0.5
              },
              "width": 1500,
              "xaxis": {
                "title": {
                  "text": "Step"
                }
              },
              "yaxis": {
                "title": {
                  "text": "Gradient to weight ratio (log scale)"
                },
                "type": "log"
              }
            },
            "_model_module": "jupyterlab-plotly",
            "_model_module_version": "^5.24.1",
            "_model_name": "FigureModel",
            "_py2js_addTraces": {},
            "_py2js_animate": {},
            "_py2js_deleteTraces": {},
            "_py2js_moveTraces": {},
            "_py2js_relayout": {},
            "_py2js_removeLayoutProps": {},
            "_py2js_removeTraceProps": {},
            "_py2js_restyle": null,
            "_py2js_update": {},
            "_view_count": 1,
            "_view_module": "jupyterlab-plotly",
            "_view_module_version": "^5.24.1",
            "_view_name": "FigureView"
          }
        },
        "f410f65ca6de43c699ab43d6feebe25a": {
          "model_module": "jupyterlab-plotly",
          "model_name": "FigureModel",
          "model_module_version": "^5.24.1",
          "state": {
            "_config": {
              "plotlyServerURL": "https://plot.ly"
            },
            "_data": [
              {
                "mode": "lines+markers",
                "showlegend": true,
                "x": [],
                "y": [],
                "type": "scatter",
                "uid": "f46668d0-da16-4a3f-b151-eb49ee878248"
              },
              {
                "mode": "lines+markers",
                "showlegend": true,
                "x": [],
                "y": [],
                "type": "scatter",
                "uid": "f404e25d-22fd-48f6-89b5-791181556870"
              },
              {
                "mode": "lines+markers",
                "showlegend": true,
                "x": [],
                "y": [],
                "type": "scatter",
                "uid": "0e3e0e31-ea75-4a31-8c3b-cf6ac1c31b4a"
              },
              {
                "mode": "lines+markers",
                "showlegend": true,
                "x": [],
                "y": [],
                "type": "scatter",
                "uid": "206e4ed6-93e9-4f23-9f55-9c881ba73d8d"
              },
              {
                "mode": "lines+markers",
                "showlegend": true,
                "x": [],
                "y": [],
                "type": "scatter",
                "uid": "77feb850-65d0-40e7-a036-e9933570921a"
              },
              {
                "mode": "lines+markers",
                "showlegend": true,
                "x": [],
                "y": [],
                "type": "scatter",
                "uid": "1118a657-d197-4bca-a3f0-44d6f28d5ac9"
              },
              {
                "mode": "lines+markers",
                "showlegend": true,
                "x": [],
                "y": [],
                "type": "scatter",
                "uid": "51786517-44d0-41c8-a454-377f420cca41"
              },
              {
                "mode": "lines+markers",
                "showlegend": true,
                "x": [],
                "y": [],
                "type": "scatter",
                "uid": "3fdf3456-87cc-45f3-a7ac-24542caf1f90"
              },
              {
                "mode": "lines+markers",
                "showlegend": true,
                "x": [],
                "y": [],
                "type": "scatter",
                "uid": "1d6aa05a-4503-485a-849c-9f89c3fc2e69"
              },
              {
                "mode": "lines+markers",
                "showlegend": true,
                "x": [],
                "y": [],
                "type": "scatter",
                "uid": "3f97c703-ba04-4ac8-904f-254f6d3c60eb"
              },
              {
                "mode": "lines+markers",
                "showlegend": true,
                "x": [],
                "y": [],
                "type": "scatter",
                "uid": "f6005629-da4b-4a55-b0aa-1c8c023b3543"
              },
              {
                "mode": "lines+markers",
                "showlegend": true,
                "x": [],
                "y": [],
                "type": "scatter",
                "uid": "206ff43d-706c-4de0-9885-84fecc515ba8"
              },
              {
                "mode": "lines+markers",
                "showlegend": true,
                "x": [],
                "y": [],
                "type": "scatter",
                "uid": "44e70675-6b51-4068-889c-b5734235e900"
              },
              {
                "mode": "lines+markers",
                "showlegend": true,
                "x": [],
                "y": [],
                "type": "scatter",
                "uid": "df2920c4-08ca-4832-b415-29954c215916"
              },
              {
                "mode": "lines+markers",
                "showlegend": true,
                "x": [],
                "y": [],
                "type": "scatter",
                "uid": "8a176135-1228-4de9-a2d1-324494398a75"
              },
              {
                "mode": "lines+markers",
                "showlegend": true,
                "x": [],
                "y": [],
                "type": "scatter",
                "uid": "55f4920d-a41b-42a7-b51f-cfd30cbe446a"
              },
              {
                "mode": "lines+markers",
                "showlegend": true,
                "x": [],
                "y": [],
                "type": "scatter",
                "uid": "a1b221b5-4b4a-4c10-811e-3fac35ef7818"
              },
              {
                "mode": "lines+markers",
                "showlegend": true,
                "x": [],
                "y": [],
                "type": "scatter",
                "uid": "83673e6f-0e39-4253-8746-5b1d34f37ab4"
              },
              {
                "mode": "lines+markers",
                "showlegend": true,
                "x": [],
                "y": [],
                "type": "scatter",
                "uid": "c69d2fbf-1d2e-4f97-8011-69112c4783e9"
              },
              {
                "mode": "lines+markers",
                "showlegend": true,
                "x": [],
                "y": [],
                "type": "scatter",
                "uid": "ccb7f5b1-e6ef-4ddd-87bf-ba3ea9f00443"
              },
              {
                "mode": "lines+markers",
                "showlegend": true,
                "x": [],
                "y": [],
                "type": "scatter",
                "uid": "1b478718-6eeb-4c42-90c6-d640fbbe1924"
              },
              {
                "mode": "lines+markers",
                "showlegend": true,
                "x": [],
                "y": [],
                "type": "scatter",
                "uid": "7b0050f5-2a97-4913-b713-5daed07566b4"
              },
              {
                "mode": "lines+markers",
                "showlegend": true,
                "x": [],
                "y": [],
                "type": "scatter",
                "uid": "536b5e61-4d94-46c2-9c6b-a81c7d284b61"
              },
              {
                "mode": "lines+markers",
                "showlegend": true,
                "x": [],
                "y": [],
                "type": "scatter",
                "uid": "7a22ff63-6c6e-42eb-ba22-e73cb7217214"
              },
              {
                "mode": "lines+markers",
                "showlegend": true,
                "x": [],
                "y": [],
                "type": "scatter",
                "uid": "59cbd237-5b20-4353-a7e3-dd9188f16b71"
              }
            ],
            "_dom_classes": [],
            "_js2py_layoutDelta": {},
            "_js2py_pointsCallback": {},
            "_js2py_relayout": {},
            "_js2py_restyle": {},
            "_js2py_traceDeltas": {},
            "_js2py_update": {},
            "_last_layout_edit_id": 9,
            "_last_trace_edit_id": 9,
            "_layout": {
              "height": 400,
              "margin": {
                "b": 10,
                "t": 60
              },
              "template": {
                "data": {
                  "barpolar": [
                    {
                      "marker": {
                        "line": {
                          "color": "#E5ECF6",
                          "width": 0.5
                        },
                        "pattern": {
                          "fillmode": "overlay",
                          "size": 10,
                          "solidity": 0.2
                        }
                      },
                      "type": "barpolar"
                    }
                  ],
                  "bar": [
                    {
                      "error_x": {
                        "color": "#2a3f5f"
                      },
                      "error_y": {
                        "color": "#2a3f5f"
                      },
                      "marker": {
                        "line": {
                          "color": "#E5ECF6",
                          "width": 0.5
                        },
                        "pattern": {
                          "fillmode": "overlay",
                          "size": 10,
                          "solidity": 0.2
                        }
                      },
                      "type": "bar"
                    }
                  ],
                  "carpet": [
                    {
                      "aaxis": {
                        "endlinecolor": "#2a3f5f",
                        "gridcolor": "white",
                        "linecolor": "white",
                        "minorgridcolor": "white",
                        "startlinecolor": "#2a3f5f"
                      },
                      "baxis": {
                        "endlinecolor": "#2a3f5f",
                        "gridcolor": "white",
                        "linecolor": "white",
                        "minorgridcolor": "white",
                        "startlinecolor": "#2a3f5f"
                      },
                      "type": "carpet"
                    }
                  ],
                  "choropleth": [
                    {
                      "colorbar": {
                        "outlinewidth": 0,
                        "ticks": ""
                      },
                      "type": "choropleth"
                    }
                  ],
                  "contourcarpet": [
                    {
                      "colorbar": {
                        "outlinewidth": 0,
                        "ticks": ""
                      },
                      "type": "contourcarpet"
                    }
                  ],
                  "contour": [
                    {
                      "colorbar": {
                        "outlinewidth": 0,
                        "ticks": ""
                      },
                      "colorscale": [
                        [
                          0,
                          "#0d0887"
                        ],
                        [
                          0.1111111111111111,
                          "#46039f"
                        ],
                        [
                          0.2222222222222222,
                          "#7201a8"
                        ],
                        [
                          0.3333333333333333,
                          "#9c179e"
                        ],
                        [
                          0.4444444444444444,
                          "#bd3786"
                        ],
                        [
                          0.5555555555555556,
                          "#d8576b"
                        ],
                        [
                          0.6666666666666666,
                          "#ed7953"
                        ],
                        [
                          0.7777777777777778,
                          "#fb9f3a"
                        ],
                        [
                          0.8888888888888888,
                          "#fdca26"
                        ],
                        [
                          1,
                          "#f0f921"
                        ]
                      ],
                      "type": "contour"
                    }
                  ],
                  "heatmapgl": [
                    {
                      "colorbar": {
                        "outlinewidth": 0,
                        "ticks": ""
                      },
                      "colorscale": [
                        [
                          0,
                          "#0d0887"
                        ],
                        [
                          0.1111111111111111,
                          "#46039f"
                        ],
                        [
                          0.2222222222222222,
                          "#7201a8"
                        ],
                        [
                          0.3333333333333333,
                          "#9c179e"
                        ],
                        [
                          0.4444444444444444,
                          "#bd3786"
                        ],
                        [
                          0.5555555555555556,
                          "#d8576b"
                        ],
                        [
                          0.6666666666666666,
                          "#ed7953"
                        ],
                        [
                          0.7777777777777778,
                          "#fb9f3a"
                        ],
                        [
                          0.8888888888888888,
                          "#fdca26"
                        ],
                        [
                          1,
                          "#f0f921"
                        ]
                      ],
                      "type": "heatmapgl"
                    }
                  ],
                  "heatmap": [
                    {
                      "colorbar": {
                        "outlinewidth": 0,
                        "ticks": ""
                      },
                      "colorscale": [
                        [
                          0,
                          "#0d0887"
                        ],
                        [
                          0.1111111111111111,
                          "#46039f"
                        ],
                        [
                          0.2222222222222222,
                          "#7201a8"
                        ],
                        [
                          0.3333333333333333,
                          "#9c179e"
                        ],
                        [
                          0.4444444444444444,
                          "#bd3786"
                        ],
                        [
                          0.5555555555555556,
                          "#d8576b"
                        ],
                        [
                          0.6666666666666666,
                          "#ed7953"
                        ],
                        [
                          0.7777777777777778,
                          "#fb9f3a"
                        ],
                        [
                          0.8888888888888888,
                          "#fdca26"
                        ],
                        [
                          1,
                          "#f0f921"
                        ]
                      ],
                      "type": "heatmap"
                    }
                  ],
                  "histogram2dcontour": [
                    {
                      "colorbar": {
                        "outlinewidth": 0,
                        "ticks": ""
                      },
                      "colorscale": [
                        [
                          0,
                          "#0d0887"
                        ],
                        [
                          0.1111111111111111,
                          "#46039f"
                        ],
                        [
                          0.2222222222222222,
                          "#7201a8"
                        ],
                        [
                          0.3333333333333333,
                          "#9c179e"
                        ],
                        [
                          0.4444444444444444,
                          "#bd3786"
                        ],
                        [
                          0.5555555555555556,
                          "#d8576b"
                        ],
                        [
                          0.6666666666666666,
                          "#ed7953"
                        ],
                        [
                          0.7777777777777778,
                          "#fb9f3a"
                        ],
                        [
                          0.8888888888888888,
                          "#fdca26"
                        ],
                        [
                          1,
                          "#f0f921"
                        ]
                      ],
                      "type": "histogram2dcontour"
                    }
                  ],
                  "histogram2d": [
                    {
                      "colorbar": {
                        "outlinewidth": 0,
                        "ticks": ""
                      },
                      "colorscale": [
                        [
                          0,
                          "#0d0887"
                        ],
                        [
                          0.1111111111111111,
                          "#46039f"
                        ],
                        [
                          0.2222222222222222,
                          "#7201a8"
                        ],
                        [
                          0.3333333333333333,
                          "#9c179e"
                        ],
                        [
                          0.4444444444444444,
                          "#bd3786"
                        ],
                        [
                          0.5555555555555556,
                          "#d8576b"
                        ],
                        [
                          0.6666666666666666,
                          "#ed7953"
                        ],
                        [
                          0.7777777777777778,
                          "#fb9f3a"
                        ],
                        [
                          0.8888888888888888,
                          "#fdca26"
                        ],
                        [
                          1,
                          "#f0f921"
                        ]
                      ],
                      "type": "histogram2d"
                    }
                  ],
                  "histogram": [
                    {
                      "marker": {
                        "pattern": {
                          "fillmode": "overlay",
                          "size": 10,
                          "solidity": 0.2
                        }
                      },
                      "type": "histogram"
                    }
                  ],
                  "mesh3d": [
                    {
                      "colorbar": {
                        "outlinewidth": 0,
                        "ticks": ""
                      },
                      "type": "mesh3d"
                    }
                  ],
                  "parcoords": [
                    {
                      "line": {
                        "colorbar": {
                          "outlinewidth": 0,
                          "ticks": ""
                        }
                      },
                      "type": "parcoords"
                    }
                  ],
                  "pie": [
                    {
                      "automargin": true,
                      "type": "pie"
                    }
                  ],
                  "scatter3d": [
                    {
                      "line": {
                        "colorbar": {
                          "outlinewidth": 0,
                          "ticks": ""
                        }
                      },
                      "marker": {
                        "colorbar": {
                          "outlinewidth": 0,
                          "ticks": ""
                        }
                      },
                      "type": "scatter3d"
                    }
                  ],
                  "scattercarpet": [
                    {
                      "marker": {
                        "colorbar": {
                          "outlinewidth": 0,
                          "ticks": ""
                        }
                      },
                      "type": "scattercarpet"
                    }
                  ],
                  "scattergeo": [
                    {
                      "marker": {
                        "colorbar": {
                          "outlinewidth": 0,
                          "ticks": ""
                        }
                      },
                      "type": "scattergeo"
                    }
                  ],
                  "scattergl": [
                    {
                      "marker": {
                        "colorbar": {
                          "outlinewidth": 0,
                          "ticks": ""
                        }
                      },
                      "type": "scattergl"
                    }
                  ],
                  "scattermapbox": [
                    {
                      "marker": {
                        "colorbar": {
                          "outlinewidth": 0,
                          "ticks": ""
                        }
                      },
                      "type": "scattermapbox"
                    }
                  ],
                  "scatterpolargl": [
                    {
                      "marker": {
                        "colorbar": {
                          "outlinewidth": 0,
                          "ticks": ""
                        }
                      },
                      "type": "scatterpolargl"
                    }
                  ],
                  "scatterpolar": [
                    {
                      "marker": {
                        "colorbar": {
                          "outlinewidth": 0,
                          "ticks": ""
                        }
                      },
                      "type": "scatterpolar"
                    }
                  ],
                  "scatter": [
                    {
                      "fillpattern": {
                        "fillmode": "overlay",
                        "size": 10,
                        "solidity": 0.2
                      },
                      "type": "scatter"
                    }
                  ],
                  "scatterternary": [
                    {
                      "marker": {
                        "colorbar": {
                          "outlinewidth": 0,
                          "ticks": ""
                        }
                      },
                      "type": "scatterternary"
                    }
                  ],
                  "surface": [
                    {
                      "colorbar": {
                        "outlinewidth": 0,
                        "ticks": ""
                      },
                      "colorscale": [
                        [
                          0,
                          "#0d0887"
                        ],
                        [
                          0.1111111111111111,
                          "#46039f"
                        ],
                        [
                          0.2222222222222222,
                          "#7201a8"
                        ],
                        [
                          0.3333333333333333,
                          "#9c179e"
                        ],
                        [
                          0.4444444444444444,
                          "#bd3786"
                        ],
                        [
                          0.5555555555555556,
                          "#d8576b"
                        ],
                        [
                          0.6666666666666666,
                          "#ed7953"
                        ],
                        [
                          0.7777777777777778,
                          "#fb9f3a"
                        ],
                        [
                          0.8888888888888888,
                          "#fdca26"
                        ],
                        [
                          1,
                          "#f0f921"
                        ]
                      ],
                      "type": "surface"
                    }
                  ],
                  "table": [
                    {
                      "cells": {
                        "fill": {
                          "color": "#EBF0F8"
                        },
                        "line": {
                          "color": "white"
                        }
                      },
                      "header": {
                        "fill": {
                          "color": "#C8D4E3"
                        },
                        "line": {
                          "color": "white"
                        }
                      },
                      "type": "table"
                    }
                  ]
                },
                "layout": {
                  "annotationdefaults": {
                    "arrowcolor": "#2a3f5f",
                    "arrowhead": 0,
                    "arrowwidth": 1
                  },
                  "autotypenumbers": "strict",
                  "coloraxis": {
                    "colorbar": {
                      "outlinewidth": 0,
                      "ticks": ""
                    }
                  },
                  "colorscale": {
                    "diverging": [
                      [
                        0,
                        "#8e0152"
                      ],
                      [
                        0.1,
                        "#c51b7d"
                      ],
                      [
                        0.2,
                        "#de77ae"
                      ],
                      [
                        0.3,
                        "#f1b6da"
                      ],
                      [
                        0.4,
                        "#fde0ef"
                      ],
                      [
                        0.5,
                        "#f7f7f7"
                      ],
                      [
                        0.6,
                        "#e6f5d0"
                      ],
                      [
                        0.7,
                        "#b8e186"
                      ],
                      [
                        0.8,
                        "#7fbc41"
                      ],
                      [
                        0.9,
                        "#4d9221"
                      ],
                      [
                        1,
                        "#276419"
                      ]
                    ],
                    "sequential": [
                      [
                        0,
                        "#0d0887"
                      ],
                      [
                        0.1111111111111111,
                        "#46039f"
                      ],
                      [
                        0.2222222222222222,
                        "#7201a8"
                      ],
                      [
                        0.3333333333333333,
                        "#9c179e"
                      ],
                      [
                        0.4444444444444444,
                        "#bd3786"
                      ],
                      [
                        0.5555555555555556,
                        "#d8576b"
                      ],
                      [
                        0.6666666666666666,
                        "#ed7953"
                      ],
                      [
                        0.7777777777777778,
                        "#fb9f3a"
                      ],
                      [
                        0.8888888888888888,
                        "#fdca26"
                      ],
                      [
                        1,
                        "#f0f921"
                      ]
                    ],
                    "sequentialminus": [
                      [
                        0,
                        "#0d0887"
                      ],
                      [
                        0.1111111111111111,
                        "#46039f"
                      ],
                      [
                        0.2222222222222222,
                        "#7201a8"
                      ],
                      [
                        0.3333333333333333,
                        "#9c179e"
                      ],
                      [
                        0.4444444444444444,
                        "#bd3786"
                      ],
                      [
                        0.5555555555555556,
                        "#d8576b"
                      ],
                      [
                        0.6666666666666666,
                        "#ed7953"
                      ],
                      [
                        0.7777777777777778,
                        "#fb9f3a"
                      ],
                      [
                        0.8888888888888888,
                        "#fdca26"
                      ],
                      [
                        1,
                        "#f0f921"
                      ]
                    ]
                  },
                  "colorway": [
                    "#636efa",
                    "#EF553B",
                    "#00cc96",
                    "#ab63fa",
                    "#FFA15A",
                    "#19d3f3",
                    "#FF6692",
                    "#B6E880",
                    "#FF97FF",
                    "#FECB52"
                  ],
                  "font": {
                    "color": "#2a3f5f"
                  },
                  "geo": {
                    "bgcolor": "white",
                    "lakecolor": "white",
                    "landcolor": "#E5ECF6",
                    "showlakes": true,
                    "showland": true,
                    "subunitcolor": "white"
                  },
                  "hoverlabel": {
                    "align": "left"
                  },
                  "hovermode": "closest",
                  "mapbox": {
                    "style": "light"
                  },
                  "paper_bgcolor": "white",
                  "plot_bgcolor": "#E5ECF6",
                  "polar": {
                    "angularaxis": {
                      "gridcolor": "white",
                      "linecolor": "white",
                      "ticks": ""
                    },
                    "bgcolor": "#E5ECF6",
                    "radialaxis": {
                      "gridcolor": "white",
                      "linecolor": "white",
                      "ticks": ""
                    }
                  },
                  "scene": {
                    "xaxis": {
                      "backgroundcolor": "#E5ECF6",
                      "gridcolor": "white",
                      "gridwidth": 2,
                      "linecolor": "white",
                      "showbackground": true,
                      "ticks": "",
                      "zerolinecolor": "white"
                    },
                    "yaxis": {
                      "backgroundcolor": "#E5ECF6",
                      "gridcolor": "white",
                      "gridwidth": 2,
                      "linecolor": "white",
                      "showbackground": true,
                      "ticks": "",
                      "zerolinecolor": "white"
                    },
                    "zaxis": {
                      "backgroundcolor": "#E5ECF6",
                      "gridcolor": "white",
                      "gridwidth": 2,
                      "linecolor": "white",
                      "showbackground": true,
                      "ticks": "",
                      "zerolinecolor": "white"
                    }
                  },
                  "shapedefaults": {
                    "line": {
                      "color": "#2a3f5f"
                    }
                  },
                  "ternary": {
                    "aaxis": {
                      "gridcolor": "white",
                      "linecolor": "white",
                      "ticks": ""
                    },
                    "baxis": {
                      "gridcolor": "white",
                      "linecolor": "white",
                      "ticks": ""
                    },
                    "bgcolor": "#E5ECF6",
                    "caxis": {
                      "gridcolor": "white",
                      "linecolor": "white",
                      "ticks": ""
                    }
                  },
                  "title": {
                    "x": 0.05
                  },
                  "xaxis": {
                    "automargin": true,
                    "gridcolor": "white",
                    "linecolor": "white",
                    "ticks": "",
                    "title": {
                      "standoff": 15
                    },
                    "zerolinecolor": "white",
                    "zerolinewidth": 2
                  },
                  "yaxis": {
                    "automargin": true,
                    "gridcolor": "white",
                    "linecolor": "white",
                    "ticks": "",
                    "title": {
                      "standoff": 15
                    },
                    "zerolinecolor": "white",
                    "zerolinewidth": 2
                  }
                }
              },
              "title": {
                "text": "Test accuracy",
                "x": 0.5
              },
              "width": 1500,
              "xaxis": {
                "title": {
                  "text": "Epoch"
                }
              },
              "yaxis": {
                "type": "linear"
              }
            },
            "_model_module": "jupyterlab-plotly",
            "_model_module_version": "^5.24.1",
            "_model_name": "FigureModel",
            "_py2js_addTraces": {},
            "_py2js_animate": {},
            "_py2js_deleteTraces": {},
            "_py2js_moveTraces": {},
            "_py2js_relayout": {},
            "_py2js_removeLayoutProps": {},
            "_py2js_removeTraceProps": {},
            "_py2js_restyle": null,
            "_py2js_update": {},
            "_view_count": 1,
            "_view_module": "jupyterlab-plotly",
            "_view_module_version": "^5.24.1",
            "_view_name": "FigureView"
          }
        }
      }
    }
  },
  "nbformat": 4,
  "nbformat_minor": 0
}